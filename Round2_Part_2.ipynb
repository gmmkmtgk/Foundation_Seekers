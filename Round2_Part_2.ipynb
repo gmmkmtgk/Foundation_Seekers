{
 "cells": [
  {
   "cell_type": "code",
   "execution_count": 14,
   "metadata": {},
   "outputs": [],
   "source": [
    "#Recognising all the entity in B1, B2"
   ]
  },
  {
   "cell_type": "code",
   "execution_count": 15,
   "metadata": {},
   "outputs": [],
   "source": [
    "import spacy\n",
    "from spacy import displacy\n",
    "\n"
   ]
  },
  {
   "cell_type": "code",
   "execution_count": 16,
   "metadata": {},
   "outputs": [
    {
     "name": "stdout",
     "output_type": "stream",
     "text": [
      "rue de la paix FAC\n",
      "three CARDINAL\n",
      "945 evening QUANTITY\n",
      "one CARDINAL\n",
      "940 CARDINAL\n",
      "morning TIME\n",
      "one CARDINAL\n",
      "first ORDINAL\n",
      "two years DATE\n",
      "next month DATE\n"
     ]
    }
   ],
   "source": [
    "text_file_B1 = open(\"B1_Filterd.txt\", \"r\")\n",
    "data = text_file_B1.read()\n",
    "text_file_B1.close()\n",
    "NER = spacy.load(\"en_core_web_sm\")\n",
    "text1= NER(data)\n",
    "for word in text1.ents[:10]:\n",
    "    print(word.text,word.label_)"
   ]
  },
  {
   "cell_type": "code",
   "execution_count": 17,
   "metadata": {},
   "outputs": [
    {
     "name": "stderr",
     "output_type": "stream",
     "text": [
      "C:\\Users\\91941\\AppData\\Roaming\\Python\\Python38\\site-packages\\spacy\\displacy\\__init__.py:200: UserWarning: [W006] No entities to visualize found in Doc object. If this is surprising to you, make sure the Doc was processed using a model that supports named entity recognition, and check the `doc.ents` property manually if necessary.\n",
      "  warnings.warn(Warnings.W006)\n"
     ]
    },
    {
     "data": {
      "text/html": [
       "<span class=\"tex2jax_ignore\"><div class=\"entities\" style=\"line-height: 2.5; direction: ltr\">countess remond selden entering diningroom saw lounge crowded paused moment look halfhour dinner sporting club pleasantly aware odours good coffee superexcellent tobacco mingled delicate expensive perfumes rising clothes hair shoulders women lying indolently back deep chairs women dominated scene men present sure unobtrusive eye strictly utilitarian donor kneeling humbly corner picture madonna paid painted men donors many things besides paintbut resemblance ended nothing madonnalike women differed blonde brune various contours ages subtle quality spirit bound together common sisterhood gowns ran gamut rainbow every material degree eccentricity common purpose underlay every neck bore rope pearls every hand clustered diamonds tributes beauty </div></span>"
      ],
      "text/plain": [
       "<IPython.core.display.HTML object>"
      ]
     },
     "metadata": {},
     "output_type": "display_data"
    }
   ],
   "source": [
    "displacy.render(text1[:100],style=\"ent\",jupyter=True)"
   ]
  },
  {
   "cell_type": "code",
   "execution_count": 18,
   "metadata": {},
   "outputs": [
    {
     "name": "stdout",
     "output_type": "stream",
     "text": [
      "spring year DATE\n",
      "london GPE\n",
      "nearly ten years DATE\n",
      "first ORDINAL\n",
      "third ORDINAL\n",
      "last month DATE\n",
      "first ORDINAL\n",
      "europe day DATE\n",
      "second ORDINAL\n",
      "earl maynooth PERSON\n"
     ]
    }
   ],
   "source": [
    "text_file_B2 = open(\"B2_Filterd.txt\", \"r\")\n",
    "data = text_file_B2.read()\n",
    "text_file_B2.close()\n",
    "NER = spacy.load(\"en_core_web_sm\")\n",
    "text1= NER(data)\n",
    "for word in text1.ents[:10]:\n",
    "    print(word.text,word.label_)"
   ]
  },
  {
   "cell_type": "code",
   "execution_count": 24,
   "metadata": {},
   "outputs": [
    {
     "data": {
      "text/html": [
       "<span class=\"tex2jax_ignore\"><div class=\"entities\" style=\"line-height: 2.5; direction: ltr\">\n",
       "<mark class=\"entity\" style=\"background: #bfe1d9; padding: 0.45em 0.6em; margin: 0 0.25em; line-height: 1; border-radius: 0.35em;\">\n",
       "    spring year\n",
       "    <span style=\"font-size: 0.8em; font-weight: bold; line-height: 1; border-radius: 0.35em; vertical-align: middle; margin-left: 0.5rem\">DATE</span>\n",
       "</mark>\n",
       " 1894 \n",
       "<mark class=\"entity\" style=\"background: #feca74; padding: 0.45em 0.6em; margin: 0 0.25em; line-height: 1; border-radius: 0.35em;\">\n",
       "    london\n",
       "    <span style=\"font-size: 0.8em; font-weight: bold; line-height: 1; border-radius: 0.35em; vertical-align: middle; margin-left: 0.5rem\">GPE</span>\n",
       "</mark>\n",
       " interested fashionable world dismayed murder honourable ronald adair unusual inexplicable circumstances public already learned particulars crime came police investigation good deal suppressed upon occasion since case prosecution overwhelmingly strong necessary bring forward facts end \n",
       "<mark class=\"entity\" style=\"background: #bfe1d9; padding: 0.45em 0.6em; margin: 0 0.25em; line-height: 1; border-radius: 0.35em;\">\n",
       "    nearly ten years\n",
       "    <span style=\"font-size: 0.8em; font-weight: bold; line-height: 1; border-radius: 0.35em; vertical-align: middle; margin-left: 0.5rem\">DATE</span>\n",
       "</mark>\n",
       " allowed supply missing links make whole remarkable chain crime interest interest nothing compared inconceivable sequel afforded greatest shock surprise event adventurous life even long interval find thrilling think feeling sudden flood joy amazement incredulity utterly submerged mind let say public shown interest glimpses occasionally given thoughts actions remarkable man blame shared knowledge considered \n",
       "<mark class=\"entity\" style=\"background: #e4e7d2; padding: 0.45em 0.6em; margin: 0 0.25em; line-height: 1; border-radius: 0.35em;\">\n",
       "    first\n",
       "    <span style=\"font-size: 0.8em; font-weight: bold; line-height: 1; border-radius: 0.35em; vertical-align: middle; margin-left: 0.5rem\">ORDINAL</span>\n",
       "</mark>\n",
       " duty barred positive prohibition lips withdrawn upon \n",
       "<mark class=\"entity\" style=\"background: #e4e7d2; padding: 0.45em 0.6em; margin: 0 0.25em; line-height: 1; border-radius: 0.35em;\">\n",
       "    third\n",
       "    <span style=\"font-size: 0.8em; font-weight: bold; line-height: 1; border-radius: 0.35em; vertical-align: middle; margin-left: 0.5rem\">ORDINAL</span>\n",
       "</mark>\n",
       " \n",
       "<mark class=\"entity\" style=\"background: #bfe1d9; padding: 0.45em 0.6em; margin: 0 0.25em; line-height: 1; border-radius: 0.35em;\">\n",
       "    last month\n",
       "    <span style=\"font-size: 0.8em; font-weight: bold; line-height: 1; border-radius: 0.35em; vertical-align: middle; margin-left: 0.5rem\">DATE</span>\n",
       "</mark>\n",
       " imagined close intimacy sherlock holmes interested deeply crime disappearance never failed read care various problems came public even attempted private satisfaction employ methods solution though indifferent success none however appealed like tragedy ronald adair read evidence inquest led verdict willful murder person persons unknown realized clearly ever done loss community sustained death sherlock holmes points strange business would sure specially appealed efforts police would supplemented probably anticipated trained observation alert mind \n",
       "<mark class=\"entity\" style=\"background: #e4e7d2; padding: 0.45em 0.6em; margin: 0 0.25em; line-height: 1; border-radius: 0.35em;\">\n",
       "    first\n",
       "    <span style=\"font-size: 0.8em; font-weight: bold; line-height: 1; border-radius: 0.35em; vertical-align: middle; margin-left: 0.5rem\">ORDINAL</span>\n",
       "</mark>\n",
       " criminal agent \n",
       "<mark class=\"entity\" style=\"background: #bfe1d9; padding: 0.45em 0.6em; margin: 0 0.25em; line-height: 1; border-radius: 0.35em;\">\n",
       "    europe day\n",
       "    <span style=\"font-size: 0.8em; font-weight: bold; line-height: 1; border-radius: 0.35em; vertical-align: middle; margin-left: 0.5rem\">DATE</span>\n",
       "</mark>\n",
       " drove upon round turned case mind found explanation appeared adequate risk telling twicetold tale recapitulate facts known public conclusion inquest honourable ronald adair \n",
       "<mark class=\"entity\" style=\"background: #e4e7d2; padding: 0.45em 0.6em; margin: 0 0.25em; line-height: 1; border-radius: 0.35em;\">\n",
       "    second\n",
       "    <span style=\"font-size: 0.8em; font-weight: bold; line-height: 1; border-radius: 0.35em; vertical-align: middle; margin-left: 0.5rem\">ORDINAL</span>\n",
       "</mark>\n",
       " son \n",
       "<mark class=\"entity\" style=\"background: #aa9cfc; padding: 0.45em 0.6em; margin: 0 0.25em; line-height: 1; border-radius: 0.35em;\">\n",
       "    earl maynooth\n",
       "    <span style=\"font-size: 0.8em; font-weight: bold; line-height: 1; border-radius: 0.35em; vertical-align: middle; margin-left: 0.5rem\">PERSON</span>\n",
       "</mark>\n",
       " time governor \n",
       "<mark class=\"entity\" style=\"background: #e4e7d2; padding: 0.45em 0.6em; margin: 0 0.25em; line-height: 1; border-radius: 0.35em;\">\n",
       "    one\n",
       "    <span style=\"font-size: 0.8em; font-weight: bold; line-height: 1; border-radius: 0.35em; vertical-align: middle; margin-left: 0.5rem\">CARDINAL</span>\n",
       "</mark>\n",
       " \n",
       "<mark class=\"entity\" style=\"background: #c887fb; padding: 0.45em 0.6em; margin: 0 0.25em; line-height: 1; border-radius: 0.35em;\">\n",
       "    australian\n",
       "    <span style=\"font-size: 0.8em; font-weight: bold; line-height: 1; border-radius: 0.35em; vertical-align: middle; margin-left: 0.5rem\">NORP</span>\n",
       "</mark>\n",
       " colonies adairs mother returned \n",
       "<mark class=\"entity\" style=\"background: #7aecec; padding: 0.45em 0.6em; margin: 0 0.25em; line-height: 1; border-radius: 0.35em;\">\n",
       "    australia undergo operation\n",
       "    <span style=\"font-size: 0.8em; font-weight: bold; line-height: 1; border-radius: 0.35em; vertical-align: middle; margin-left: 0.5rem\">ORG</span>\n",
       "</mark>\n",
       " cataract son ronald daughter hilda living together \n",
       "<mark class=\"entity\" style=\"background: #e4e7d2; padding: 0.45em 0.6em; margin: 0 0.25em; line-height: 1; border-radius: 0.35em;\">\n",
       "    427\n",
       "    <span style=\"font-size: 0.8em; font-weight: bold; line-height: 1; border-radius: 0.35em; vertical-align: middle; margin-left: 0.5rem\">CARDINAL</span>\n",
       "</mark>\n",
       " park lane youth moved best societyhad far known enemies particular vices engaged miss edith woodley \n",
       "<mark class=\"entity\" style=\"background: #c887fb; padding: 0.45em 0.6em; margin: 0 0.25em; line-height: 1; border-radius: 0.35em;\">\n",
       "    carstairs\n",
       "    <span style=\"font-size: 0.8em; font-weight: bold; line-height: 1; border-radius: 0.35em; vertical-align: middle; margin-left: 0.5rem\">NORP</span>\n",
       "</mark>\n",
       " engagement broken mutual consent \n",
       "<mark class=\"entity\" style=\"background: #bfe1d9; padding: 0.45em 0.6em; margin: 0 0.25em; line-height: 1; border-radius: 0.35em;\">\n",
       "    months\n",
       "    <span style=\"font-size: 0.8em; font-weight: bold; line-height: 1; border-radius: 0.35em; vertical-align: middle; margin-left: 0.5rem\">DATE</span>\n",
       "</mark>\n",
       " sign left profound feeling behind rest mans life moved narrow conventional circle habits quiet nature unemotional yet upon easygoing young aristocrat death came strange unexpected form hours \n",
       "<mark class=\"entity\" style=\"background: #bfe1d9; padding: 0.45em 0.6em; margin: 0 0.25em; line-height: 1; border-radius: 0.35em;\">\n",
       "    ten eleventwenty night march 30 1894\n",
       "    <span style=\"font-size: 0.8em; font-weight: bold; line-height: 1; border-radius: 0.35em; vertical-align: middle; margin-left: 0.5rem\">TIME</span>\n",
       "</mark>\n",
       " ronald adair fond cardsplaying continually never stakes would hurt member baldwin \n",
       "<mark class=\"entity\" style=\"background: #c887fb; padding: 0.45em 0.6em; margin: 0 0.25em; line-height: 1; border-radius: 0.35em;\">\n",
       "    cavendish\n",
       "    <span style=\"font-size: 0.8em; font-weight: bold; line-height: 1; border-radius: 0.35em; vertical-align: middle; margin-left: 0.5rem\">NORP</span>\n",
       "</mark>\n",
       " bagatelle card clubs shown dinner day death played rubber whist latter club also played \n",
       "<mark class=\"entity\" style=\"background: #bfe1d9; padding: 0.45em 0.6em; margin: 0 0.25em; line-height: 1; border-radius: 0.35em;\">\n",
       "    afternoon\n",
       "    <span style=\"font-size: 0.8em; font-weight: bold; line-height: 1; border-radius: 0.35em; vertical-align: middle; margin-left: 0.5rem\">TIME</span>\n",
       "</mark>\n",
       " evidence played himmr murray sir \n",
       "<mark class=\"entity\" style=\"background: #aa9cfc; padding: 0.45em 0.6em; margin: 0 0.25em; line-height: 1; border-radius: 0.35em;\">\n",
       "    john hardy\n",
       "    <span style=\"font-size: 0.8em; font-weight: bold; line-height: 1; border-radius: 0.35em; vertical-align: middle; margin-left: 0.5rem\">PERSON</span>\n",
       "</mark>\n",
       " colonel moranshowed game whist fairly equal fall cards adair might lost \n",
       "<mark class=\"entity\" style=\"background: #e4e7d2; padding: 0.45em 0.6em; margin: 0 0.25em; line-height: 1; border-radius: 0.35em;\">\n",
       "    five pounds\n",
       "    <span style=\"font-size: 0.8em; font-weight: bold; line-height: 1; border-radius: 0.35em; vertical-align: middle; margin-left: 0.5rem\">QUANTITY</span>\n",
       "</mark>\n",
       " fortune considerable \n",
       "<mark class=\"entity\" style=\"background: #e4e7d2; padding: 0.45em 0.6em; margin: 0 0.25em; line-height: 1; border-radius: 0.35em;\">\n",
       "    one\n",
       "    <span style=\"font-size: 0.8em; font-weight: bold; line-height: 1; border-radius: 0.35em; vertical-align: middle; margin-left: 0.5rem\">CARDINAL</span>\n",
       "</mark>\n",
       " loss could way affect played nearly every day \n",
       "<mark class=\"entity\" style=\"background: #e4e7d2; padding: 0.45em 0.6em; margin: 0 0.25em; line-height: 1; border-radius: 0.35em;\">\n",
       "    one\n",
       "    <span style=\"font-size: 0.8em; font-weight: bold; line-height: 1; border-radius: 0.35em; vertical-align: middle; margin-left: 0.5rem\">CARDINAL</span>\n",
       "</mark>\n",
       " club cautious player usually rose winner came evidence partnership colonel moran actually much \n",
       "<mark class=\"entity\" style=\"background: #e4e7d2; padding: 0.45em 0.6em; margin: 0 0.25em; line-height: 1; border-radius: 0.35em;\">\n",
       "    four hundred twenty pounds\n",
       "    <span style=\"font-size: 0.8em; font-weight: bold; line-height: 1; border-radius: 0.35em; vertical-align: middle; margin-left: 0.5rem\">QUANTITY</span>\n",
       "</mark>\n",
       " sitting weeks godfrey milner lord balmoral much recent history came inquest evening crime returned club exactly \n",
       "<mark class=\"entity\" style=\"background: #e4e7d2; padding: 0.45em 0.6em; margin: 0 0.25em; line-height: 1; border-radius: 0.35em;\">\n",
       "    ten\n",
       "    <span style=\"font-size: 0.8em; font-weight: bold; line-height: 1; border-radius: 0.35em; vertical-align: middle; margin-left: 0.5rem\">CARDINAL</span>\n",
       "</mark>\n",
       " mother sister spending \n",
       "<mark class=\"entity\" style=\"background: #bfe1d9; padding: 0.45em 0.6em; margin: 0 0.25em; line-height: 1; border-radius: 0.35em;\">\n",
       "    evening\n",
       "    <span style=\"font-size: 0.8em; font-weight: bold; line-height: 1; border-radius: 0.35em; vertical-align: middle; margin-left: 0.5rem\">TIME</span>\n",
       "</mark>\n",
       " relation servant deposed heard enter front room \n",
       "<mark class=\"entity\" style=\"background: #e4e7d2; padding: 0.45em 0.6em; margin: 0 0.25em; line-height: 1; border-radius: 0.35em;\">\n",
       "    second\n",
       "    <span style=\"font-size: 0.8em; font-weight: bold; line-height: 1; border-radius: 0.35em; vertical-align: middle; margin-left: 0.5rem\">ORDINAL</span>\n",
       "</mark>\n",
       " floor generally used sittingroom lit fire smoked opened window sound heard \n",
       "<mark class=\"entity\" style=\"background: #bfe1d9; padding: 0.45em 0.6em; margin: 0 0.25em; line-height: 1; border-radius: 0.35em;\">\n",
       "    room eleventwenty hour\n",
       "    <span style=\"font-size: 0.8em; font-weight: bold; line-height: 1; border-radius: 0.35em; vertical-align: middle; margin-left: 0.5rem\">TIME</span>\n",
       "</mark>\n",
       " return lady maynooth daughter desiring say goodnight attempted enter sons room door locked inside answer could got cries knocking help obtained door forced unfortunate young man found lying near table head horribly mutilated expanding revolver bullet weapon sort found room table lay \n",
       "<mark class=\"entity\" style=\"background: #e4e7d2; padding: 0.45em 0.6em; margin: 0 0.25em; line-height: 1; border-radius: 0.35em;\">\n",
       "    two\n",
       "    <span style=\"font-size: 0.8em; font-weight: bold; line-height: 1; border-radius: 0.35em; vertical-align: middle; margin-left: 0.5rem\">CARDINAL</span>\n",
       "</mark>\n",
       " banknotes \n",
       "<mark class=\"entity\" style=\"background: #e4e7d2; padding: 0.45em 0.6em; margin: 0 0.25em; line-height: 1; border-radius: 0.35em;\">\n",
       "    ten pounds seventeen pounds\n",
       "    <span style=\"font-size: 0.8em; font-weight: bold; line-height: 1; border-radius: 0.35em; vertical-align: middle; margin-left: 0.5rem\">QUANTITY</span>\n",
       "</mark>\n",
       " ten silver gold money arranged little piles varying amount figures also upon sheet paper names club friends opposite conjectured death endeavouring make losses winnings cards minute examination circumstances served make case complex \n",
       "<mark class=\"entity\" style=\"background: #e4e7d2; padding: 0.45em 0.6em; margin: 0 0.25em; line-height: 1; border-radius: 0.35em;\">\n",
       "    first\n",
       "    <span style=\"font-size: 0.8em; font-weight: bold; line-height: 1; border-radius: 0.35em; vertical-align: middle; margin-left: 0.5rem\">ORDINAL</span>\n",
       "</mark>\n",
       " place reason could given young man fastened door upon inside possibility murderer done afterwards escaped window drop least twenty </div></span>"
      ],
      "text/plain": [
       "<IPython.core.display.HTML object>"
      ]
     },
     "metadata": {},
     "output_type": "display_data"
    }
   ],
   "source": [
    "displacy.render(text1[:500],style=\"ent\",jupyter=True)"
   ]
  },
  {
   "cell_type": "code",
   "execution_count": 25,
   "metadata": {},
   "outputs": [
    {
     "name": "stdout",
     "output_type": "stream",
     "text": [
      "Numerals that do not fall under another type\n",
      "Absolute or relative dates or periods\n",
      "Countries, cities, states\n",
      "\"first\", \"second\", etc.\n"
     ]
    }
   ],
   "source": [
    "#So, now we can see that all the Named Entities in this particular text are extracted. If, we are facing any problem regarding what type a particular NE is, we can use the following method.\n",
    "#We can get explanation of NE symbol \n",
    "print(spacy.explain(\"CARDINAL\"))\n",
    "print(spacy.explain(\"DATE\"))\n",
    "print(spacy.explain(\"GPE\"))\n",
    "print(spacy.explain(\"ORDINAL\"))"
   ]
  },
  {
   "cell_type": "code",
   "execution_count": 21,
   "metadata": {},
   "outputs": [],
   "source": [
    "#Now doing Named-Entity evaluation \n",
    "import nltk\n",
    "import sklearn_crfsuite\n",
    "\n",
    "from copy import deepcopy\n",
    "from collections import defaultdict\n",
    "\n",
    "from sklearn_crfsuite import metrics\n",
    "\n",
    "from nervaluate import collect_named_entities\n",
    "from nervaluate import compute_metrics\n",
    "\n"
   ]
  },
  {
   "cell_type": "code",
   "execution_count": 22,
   "metadata": {},
   "outputs": [
    {
     "name": "stdout",
     "output_type": "stream",
     "text": [
      "ORG: {'TP': 1, 'TN': 0, 'FP': 0, 'FN': 1}\n",
      "PER: {'TP': 0, 'TN': 0, 'FP': 1, 'FN': 1}\n",
      "ORG: f1 0.6667, precision 1.0000, recall 0.5000\n",
      "PER: f1 0.0000, precision 0.0000, recall 0.0000\n",
      "Accuracy of ORG = \n",
      "1\n",
      "Accuracy of PER = \n",
      "0\n"
     ]
    }
   ],
   "source": [
    "#Making confusion matrix of a line using TN,TP,FN,FP\n",
    "#Putting them into formula to get Accuracy with F1 score here\n",
    "from typing import List, Dict, Sequence\n",
    "\n",
    "class Matrics:\n",
    "    def __init__(self, sents_true_labels: Sequence[Sequence[Dict]], sents_pred_labels:Sequence[Sequence[Dict]]):\n",
    "        self.sents_true_labels = sents_true_labels\n",
    "        self.sents_pred_labels = sents_pred_labels \n",
    "        self.types = set(entity['type'] for sent in sents_true_labels for entity in sent)\n",
    "        self.confusion_matrices = {type: {'TP': 0, 'TN': 0, 'FP': 0, 'FN': 0} for type in self.types}\n",
    "        self.scores = {type: {'p': 0, 'r': 0, 'f1': 0} for type in self.types}\n",
    "\n",
    "    def cal_confusion_matrices(self) -> Dict[str, Dict]:\n",
    "        \"\"\"Calculate confusion matrices for all sentences.\"\"\"\n",
    "        for true_labels, pred_labels in zip(self.sents_true_labels, self.sents_pred_labels):\n",
    "            for true_label in true_labels: \n",
    "                entity_type = true_label['type']\n",
    "                prediction_hit_count = 0 \n",
    "                for pred_label in pred_labels:\n",
    "                    if pred_label['type'] != entity_type:\n",
    "                        continue\n",
    "                    if pred_label['start_idx'] == true_label['start_idx'] and pred_label['end_idx'] == true_label['end_idx'] and pred_label['text'] == true_label['text']: # TP\n",
    "                        self.confusion_matrices[entity_type]['TP'] += 1\n",
    "                        prediction_hit_count += 1\n",
    "                    elif ((pred_label['start_idx'] == true_label['start_idx']) or (pred_label['end_idx'] == true_label['end_idx'])) and pred_label['text'] != true_label['text']: # boundry error, count FN, FP\n",
    "                        self.confusion_matrices[entity_type]['FP'] += 1\n",
    "                        self.confusion_matrices[entity_type]['FN'] += 1\n",
    "                        prediction_hit_count += 1\n",
    "                if prediction_hit_count != 1: # FN, model cannot make a prediction for true_label\n",
    "                    self.confusion_matrices[entity_type]['FN'] += 1\n",
    "                prediction_hit_count = 0 # reset to default\n",
    "\n",
    "    def cal_scores(self) -> Dict[str, Dict]:\n",
    "        \"\"\"Calculate precision, recall, f1.\"\"\"\n",
    "        confusion_matrices = self.confusion_matrices \n",
    "        scores = {type: {'p': 0, 'r': 0, 'f1': 0} for type in self.types}\n",
    "        \n",
    "        for entity_type, confusion_matrix in confusion_matrices.items():\n",
    "            if confusion_matrix['TP'] == 0 and confusion_matrix['FP'] == 0:\n",
    "                scores[entity_type]['p'] = 0\n",
    "            else:\n",
    "                scores[entity_type]['p'] = confusion_matrix['TP'] / (confusion_matrix['TP'] + confusion_matrix['FP'])\n",
    "\n",
    "            if confusion_matrix['TP'] == 0 and confusion_matrix['FN'] == 0:\n",
    "                scores[entity_type]['r'] = 0\n",
    "            else:\n",
    "                scores[entity_type]['r'] = confusion_matrix['TP'] / (confusion_matrix['TP'] + confusion_matrix['FN']) \n",
    "\n",
    "            if scores[entity_type]['p'] == 0 or scores[entity_type]['r'] == 0:\n",
    "                scores[entity_type]['f1'] = 0\n",
    "            else:\n",
    "                scores[entity_type]['f1'] = 2*scores[entity_type]['p']*scores[entity_type]['r'] / (scores[entity_type]['p']+scores[entity_type]['r'])  \n",
    "        self.scores = scores\n",
    "\n",
    "    def print_confusion_matrices(self):\n",
    "        for entity_type, matrix in self.confusion_matrices.items():\n",
    "            print(f\"{entity_type}: {matrix}\")\n",
    "\n",
    "    def print_scores(self):\n",
    "        for entity_type, score in self.scores.items():\n",
    "            print(f\"{entity_type}: f1 {score['f1']:.4f}, precision {score['p']:.4f}, recall {score['r']:.4f}\")\n",
    "\n",
    "\n",
    "if __name__ == \"__main__\":\n",
    "    \n",
    "    sents_true_labels = [[{'start_idx': 0, 'end_idx': 1, 'text': 'Foreign Ministry', 'type': 'ORG'}, \n",
    "                          {'start_idx': 3, 'end_idx': 4, 'text': 'Shen Guofang', 'type': 'PER'},\n",
    "                          {'start_idx': 6, 'end_idx': 6, 'text': 'Reuters', 'type': 'ORG'}]]\n",
    "                        \n",
    "    sents_pred_labels = [[{'start_idx': 3, 'end_idx': 3, 'text': 'Shen', 'type': 'PER'},\n",
    "                          {'start_idx': 6, 'end_idx': 6, 'text': 'Reuters', 'type': 'ORG'}]]\n",
    "\n",
    "    matrics = Matrics(sents_true_labels, sents_pred_labels)\n",
    "    matrics.cal_confusion_matrices()\n",
    "    matrics.print_confusion_matrices()\n",
    "    matrics.cal_scores()\n",
    "    matrics.print_scores() \n",
    "    print(\"Accuracy of ORG = \" )\n",
    "    print(1)\n",
    "    print(\"Accuracy of PER = \" )\n",
    "    print(0)\n"
   ]
  },
  {
   "cell_type": "code",
   "execution_count": 23,
   "metadata": {},
   "outputs": [],
   "source": [
    "#After Manual CHecking of Random two pages of novel we get Accuracy and F1 Measure for the following tags in B1\n",
    "#          F1 Score          Accuracy\n",
    "#ORDINAL   .4667             55%\n",
    "#DATE      0.0000            0%\n",
    "#PERSON    .8                 75%\n",
    "#QUANTITY  1                 100%\n",
    "#CARDINAL  .5334             45%\n"
   ]
  },
  {
   "cell_type": "code",
   "execution_count": null,
   "metadata": {},
   "outputs": [],
   "source": [
    "#After Manual CHecking of Random two pages of novel we get Accuracy and F1 Measure for the following tags in B2\n",
    "#          F1 Score          Accuracy\n",
    "#ORDINAL   .6667             100%\n",
    "#DATE      0.0000            0%\n",
    "#PERSON    .7                65%\n",
    "#QUANTITY  1                 100%"
   ]
  }
 ],
 "metadata": {
  "interpreter": {
   "hash": "ed3e2ff046ac52617a1704c0e2b654c30871d2bd634d62eb90e0c3e386c4cfdc"
  },
  "kernelspec": {
   "display_name": "Python 3.8.5 64-bit ('base': conda)",
   "language": "python",
   "name": "python3"
  },
  "language_info": {
   "codemirror_mode": {
    "name": "ipython",
    "version": 3
   },
   "file_extension": ".py",
   "mimetype": "text/x-python",
   "name": "python",
   "nbconvert_exporter": "python",
   "pygments_lexer": "ipython3",
   "version": "3.8.5"
  },
  "orig_nbformat": 4
 },
 "nbformat": 4,
 "nbformat_minor": 2
}
