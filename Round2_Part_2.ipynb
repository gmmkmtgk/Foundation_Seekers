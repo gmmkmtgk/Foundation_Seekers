{
 "cells": [
  {
   "cell_type": "code",
   "execution_count": null,
   "metadata": {},
   "outputs": [],
   "source": [
    "#Recognising all the entity in B1, B2"
   ]
  },
  {
   "cell_type": "code",
   "execution_count": 23,
   "metadata": {},
   "outputs": [],
   "source": [
    "import spacy\n",
    "from spacy import displacy\n",
    "\n"
   ]
  },
  {
   "cell_type": "code",
   "execution_count": 25,
   "metadata": {},
   "outputs": [
    {
     "name": "stdout",
     "output_type": "stream",
     "text": [
      "rue de la paix FAC\n",
      "three CARDINAL\n",
      "945 evening QUANTITY\n",
      "one CARDINAL\n",
      "940 CARDINAL\n",
      "morning TIME\n",
      "one CARDINAL\n",
      "first ORDINAL\n",
      "two years DATE\n",
      "next month DATE\n"
     ]
    }
   ],
   "source": [
    "text_file_B1 = open(\"B1_Filterd.txt\", \"r\")\n",
    "data = text_file_B1.read()\n",
    "text_file_B1.close()\n",
    "NER = spacy.load(\"en_core_web_sm\")\n",
    "text1= NER(data)\n",
    "for word in text1.ents[:10]:\n",
    "    print(word.text,word.label_)"
   ]
  },
  {
   "cell_type": "code",
   "execution_count": 28,
   "metadata": {},
   "outputs": [
    {
     "data": {
      "text/html": [
       "<span class=\"tex2jax_ignore\"><div class=\"entities\" style=\"line-height: 2.5; direction: ltr\">\n",
       "<mark class=\"entity\" style=\"background: #bfe1d9; padding: 0.45em 0.6em; margin: 0 0.25em; line-height: 1; border-radius: 0.35em;\">\n",
       "    spring year\n",
       "    <span style=\"font-size: 0.8em; font-weight: bold; line-height: 1; border-radius: 0.35em; vertical-align: middle; margin-left: 0.5rem\">DATE</span>\n",
       "</mark>\n",
       " 1894 \n",
       "<mark class=\"entity\" style=\"background: #feca74; padding: 0.45em 0.6em; margin: 0 0.25em; line-height: 1; border-radius: 0.35em;\">\n",
       "    london\n",
       "    <span style=\"font-size: 0.8em; font-weight: bold; line-height: 1; border-radius: 0.35em; vertical-align: middle; margin-left: 0.5rem\">GPE</span>\n",
       "</mark>\n",
       " interested fashionable world dismayed murder honourable ronald adair unusual inexplicable circumstances public already learned particulars crime came police investigation good deal suppressed upon occasion since case prosecution overwhelmingly strong necessary bring forward facts end \n",
       "<mark class=\"entity\" style=\"background: #bfe1d9; padding: 0.45em 0.6em; margin: 0 0.25em; line-height: 1; border-radius: 0.35em;\">\n",
       "    nearly ten years\n",
       "    <span style=\"font-size: 0.8em; font-weight: bold; line-height: 1; border-radius: 0.35em; vertical-align: middle; margin-left: 0.5rem\">DATE</span>\n",
       "</mark>\n",
       " allowed supply missing links make whole remarkable chain crime interest interest nothing compared inconceivable sequel afforded greatest shock surprise event adventurous life even long interval find thrilling think feeling sudden flood joy amazement incredulity utterly submerged mind let say public shown interest glimpses occasionally given thoughts actions remarkable man blame shared knowledge considered \n",
       "<mark class=\"entity\" style=\"background: #e4e7d2; padding: 0.45em 0.6em; margin: 0 0.25em; line-height: 1; border-radius: 0.35em;\">\n",
       "    first\n",
       "    <span style=\"font-size: 0.8em; font-weight: bold; line-height: 1; border-radius: 0.35em; vertical-align: middle; margin-left: 0.5rem\">ORDINAL</span>\n",
       "</mark>\n",
       " duty barred positive prohibition lips </div></span>"
      ],
      "text/plain": [
       "<IPython.core.display.HTML object>"
      ]
     },
     "metadata": {},
     "output_type": "display_data"
    }
   ],
   "source": [
    "displacy.render(text1[:100],style=\"ent\",jupyter=True)"
   ]
  },
  {
   "cell_type": "code",
   "execution_count": 26,
   "metadata": {},
   "outputs": [
    {
     "name": "stdout",
     "output_type": "stream",
     "text": [
      "spring year DATE\n",
      "london GPE\n",
      "nearly ten years DATE\n",
      "first ORDINAL\n",
      "third ORDINAL\n",
      "last month DATE\n",
      "first ORDINAL\n",
      "europe day DATE\n",
      "second ORDINAL\n",
      "earl maynooth PERSON\n"
     ]
    }
   ],
   "source": [
    "text_file_B2 = open(\"B2_Filterd.txt\", \"r\")\n",
    "data = text_file_B2.read()\n",
    "text_file_B2.close()\n",
    "NER = spacy.load(\"en_core_web_sm\")\n",
    "text1= NER(data)\n",
    "for word in text1.ents[:10]:\n",
    "    print(word.text,word.label_)"
   ]
  },
  {
   "cell_type": "code",
   "execution_count": 29,
   "metadata": {},
   "outputs": [
    {
     "data": {
      "text/html": [
       "<span class=\"tex2jax_ignore\"><div class=\"entities\" style=\"line-height: 2.5; direction: ltr\">\n",
       "<mark class=\"entity\" style=\"background: #bfe1d9; padding: 0.45em 0.6em; margin: 0 0.25em; line-height: 1; border-radius: 0.35em;\">\n",
       "    spring year\n",
       "    <span style=\"font-size: 0.8em; font-weight: bold; line-height: 1; border-radius: 0.35em; vertical-align: middle; margin-left: 0.5rem\">DATE</span>\n",
       "</mark>\n",
       " 1894 \n",
       "<mark class=\"entity\" style=\"background: #feca74; padding: 0.45em 0.6em; margin: 0 0.25em; line-height: 1; border-radius: 0.35em;\">\n",
       "    london\n",
       "    <span style=\"font-size: 0.8em; font-weight: bold; line-height: 1; border-radius: 0.35em; vertical-align: middle; margin-left: 0.5rem\">GPE</span>\n",
       "</mark>\n",
       " interested fashionable world dismayed murder honourable ronald adair unusual inexplicable circumstances public already learned particulars crime came police investigation good deal suppressed upon occasion since case prosecution overwhelmingly strong necessary bring forward facts end \n",
       "<mark class=\"entity\" style=\"background: #bfe1d9; padding: 0.45em 0.6em; margin: 0 0.25em; line-height: 1; border-radius: 0.35em;\">\n",
       "    nearly ten years\n",
       "    <span style=\"font-size: 0.8em; font-weight: bold; line-height: 1; border-radius: 0.35em; vertical-align: middle; margin-left: 0.5rem\">DATE</span>\n",
       "</mark>\n",
       " allowed supply missing links make whole remarkable chain crime interest interest nothing compared inconceivable sequel afforded greatest shock surprise event adventurous life even long interval find thrilling think feeling sudden flood joy amazement incredulity utterly submerged mind let say public shown interest glimpses occasionally given thoughts actions remarkable man blame shared knowledge considered \n",
       "<mark class=\"entity\" style=\"background: #e4e7d2; padding: 0.45em 0.6em; margin: 0 0.25em; line-height: 1; border-radius: 0.35em;\">\n",
       "    first\n",
       "    <span style=\"font-size: 0.8em; font-weight: bold; line-height: 1; border-radius: 0.35em; vertical-align: middle; margin-left: 0.5rem\">ORDINAL</span>\n",
       "</mark>\n",
       " duty barred positive prohibition lips </div></span>"
      ],
      "text/plain": [
       "<IPython.core.display.HTML object>"
      ]
     },
     "metadata": {},
     "output_type": "display_data"
    }
   ],
   "source": [
    "displacy.render(text1[:100],style=\"ent\",jupyter=True)"
   ]
  },
  {
   "cell_type": "code",
   "execution_count": 32,
   "metadata": {},
   "outputs": [
    {
     "name": "stdout",
     "output_type": "stream",
     "text": [
      "Absolute or relative dates or periods\n",
      "Countries, cities, states\n",
      "\"first\", \"second\", etc.\n"
     ]
    }
   ],
   "source": [
    "#So, now we can see that all the Named Entities in this particular text are extracted. If, we are facing any problem regarding what type a particular NE is, we can use the following method.\n",
    "#We can get explanation of NE symbol \n",
    "print(spacy.explain(\"DATE\"))\n",
    "print(spacy.explain(\"GPE\"))\n",
    "print(spacy.explain(\"ORDINAL\"))"
   ]
  },
  {
   "cell_type": "code",
   "execution_count": null,
   "metadata": {},
   "outputs": [],
   "source": [
    "#Now doing Named-Entity evaluation \n",
    "#Refrence https://www.davidsbatista.net/blog/2018/05/09/Named_Entity_Evaluation/\n"
   ]
  }
 ],
 "metadata": {
  "interpreter": {
   "hash": "ed3e2ff046ac52617a1704c0e2b654c30871d2bd634d62eb90e0c3e386c4cfdc"
  },
  "kernelspec": {
   "display_name": "Python 3.8.5 64-bit ('base': conda)",
   "language": "python",
   "name": "python3"
  },
  "language_info": {
   "codemirror_mode": {
    "name": "ipython",
    "version": 3
   },
   "file_extension": ".py",
   "mimetype": "text/x-python",
   "name": "python",
   "nbconvert_exporter": "python",
   "pygments_lexer": "ipython3",
   "version": "3.8.5"
  },
  "orig_nbformat": 4
 },
 "nbformat": 4,
 "nbformat_minor": 2
}
