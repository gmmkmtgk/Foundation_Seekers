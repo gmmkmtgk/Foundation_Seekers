{
 "cells": [
  {
   "cell_type": "markdown",
   "metadata": {},
   "source": [
    "# Preprocessor for Text 1\n",
    "Preprocessing includes removing special characters, lowercasing all the letters and reducing the text to the main content."
   ]
  },
  {
   "cell_type": "markdown",
   "metadata": {},
   "source": [
    "### Setting Up"
   ]
  },
  {
   "cell_type": "code",
   "execution_count": 1,
   "metadata": {},
   "outputs": [],
   "source": [
    "import regex as re                  # Used for matching words in the text\n",
    "import unidecode                    # To remove Greek accents"
   ]
  },
  {
   "cell_type": "markdown",
   "metadata": {},
   "source": [
    "### Reading the Book"
   ]
  },
  {
   "cell_type": "code",
   "execution_count": 2,
   "metadata": {},
   "outputs": [
    {
     "name": "stdout",
     "output_type": "stream",
     "text": [
      "['\\ufeffThe Project Gutenberg eBook of The Kingmakers, by Burton E. Stevenson\\n', '\\n', 'This eBook is for the use of anyone anywhere in the United States and\\n', 'most other parts of the world at no cost and with almost no restrictions\\n', 'whatsoever. You may copy it, give it away or re-use it under the terms\\n', 'of the Project Gutenberg License included with this eBook or online at\\n', 'www.gutenberg.org. If you are not located in the United States, you\\n', 'will have to check the laws of the country where you are located before\\n', 'using this eBook.\\n', '\\n']\n"
     ]
    }
   ],
   "source": [
    "book_name = \"The Kingmakers, by Burton E. Stevenson.txt\"\n",
    "with open(book_name, encoding=\"utf-8\") as book:\n",
    "    lines = book.readlines()\n",
    "\n",
    "print(lines[:10])"
   ]
  },
  {
   "cell_type": "markdown",
   "metadata": {},
   "source": [
    "### Preprocessing"
   ]
  },
  {
   "cell_type": "code",
   "execution_count": 3,
   "metadata": {},
   "outputs": [
    {
     "name": "stdout",
     "output_type": "stream",
     "text": [
      "The main content is from line numbers 157 to 9729\n"
     ]
    }
   ],
   "source": [
    "# Extracting the main content from the text\n",
    "\n",
    "begin_index = lines.index(\"CHAPTER I\\n\")\n",
    "end_index = len(lines) - 1 - lines[::-1].index(\"THE END\\n\")\n",
    "print(\"The main content is from line numbers {} to {}\".format(begin_index, end_index))\n",
    "\n",
    "lines = lines[begin_index:end_index]        # Reducing lines to main content"
   ]
  },
  {
   "cell_type": "code",
   "execution_count": 4,
   "metadata": {},
   "outputs": [
    {
     "name": "stdout",
     "output_type": "stream",
     "text": [
      "['THE COUNTESS RÉMOND\\n', 'Selden, entering from the dining-room, saw that the lounge was crowded,\\n', 'and he paused for a moment to look about him. It was the half-hour\\n', 'between dinner and the Sporting Club, and he was pleasantly aware of\\n', 'the odours of good coffee and super-excellent tobacco, mingled with the\\n', 'delicate and very expensive perfumes rising from the clothes, the hair,\\n', 'the shoulders of the women lying indolently back in the deep chairs.\\n', 'It was the women who dominated the scene. There were men present, to be\\n', 'sure, but they were as unobtrusive to the eye, as strictly utilitarian,\\n', 'as the donor kneeling humbly in the corner of the picture before the\\n']\n"
     ]
    }
   ],
   "source": [
    "# Removing chapter headings, part headings and empty lines\n",
    "\n",
    "part_pattern = r\"PART [IVX]+\"\n",
    "chapter_pattern = r\"CHAPTER [IVX]+\"\n",
    "\n",
    "temp = []\n",
    "for line in lines:\n",
    "    is_valid = ((line == '\\n') or re.match(part_pattern, line) or re.match(chapter_pattern, line))\n",
    "    if(not is_valid):               # If the line is neither a chapter number nor a part heading nor an empty line\n",
    "        temp.append(line)           # include it in the final list\n",
    "\n",
    "lines = temp\n",
    "print(lines[:10])\n"
   ]
  },
  {
   "cell_type": "code",
   "execution_count": 5,
   "metadata": {},
   "outputs": [
    {
     "name": "stdout",
     "output_type": "stream",
     "text": [
      "the countess remond selden entering from the dining room saw that the lounge was crowded and he paused for a moment to look about him it was the half hour between dinner and the sporting club and he was pleasantly aware of the odours of good coffee and super excellent tobacco mingled with the delicate and very expensive perfumes rising from the clothes the hair the shoulders of the women lying indolently back in the deep chairs it was the women who dominated the scene there were men present to be sure but they were as unobtrusive to the eye as strictly utilitarian as the donor kneeling humbly in the corner of the picture before the madonna he had paid to have painted these men were donors too of many things besides paint but the resemblance ended there for there was nothing madonna like about the women they differed in being blonde or brune of various contours and of all ages but some subtle quality of spirit bound them together in a common sisterhood their gowns ran the gamut of the r\n"
     ]
    }
   ],
   "source": [
    "# Removing special characters and combining all the lines into one string\n",
    "\n",
    "joined_book = ''.join(lines)                            # Combining all the lines to a single string\n",
    "joined_book = unidecode.unidecode(joined_book)          # Removing Greek accents\n",
    "joined_book = joined_book.lower()                       # Turing all the characters to lower case\n",
    "joined_book = re.sub(r'\\W+', '_', joined_book)           # Removing non-alphanumeric characters\n",
    "joined_book = re.sub('[\\s]+', '_', joined_book)            # Replacing spaces with '_'\n",
    "joined_book = re.sub('[_]+', ' ', joined_book)             # Replacing '_' back to ' '\n",
    "\n",
    "print(joined_book[:1000])\n",
    "\n",
    "with open(\"T1.txt\", \"w\") as T1:\n",
    "    T1.write(joined_book)\n"
   ]
  }
 ],
 "metadata": {
  "interpreter": {
   "hash": "a81e59b1662bfed04c5cc75b4aa04279397bd644e2acb4a3b9dacc0a413908c4"
  },
  "kernelspec": {
   "display_name": "Python 3.9.1 64-bit",
   "language": "python",
   "name": "python3"
  },
  "language_info": {
   "codemirror_mode": {
    "name": "ipython",
    "version": 3
   },
   "file_extension": ".py",
   "mimetype": "text/x-python",
   "name": "python",
   "nbconvert_exporter": "python",
   "pygments_lexer": "ipython3",
   "version": "3.9.1"
  },
  "orig_nbformat": 4
 },
 "nbformat": 4,
 "nbformat_minor": 2
}
