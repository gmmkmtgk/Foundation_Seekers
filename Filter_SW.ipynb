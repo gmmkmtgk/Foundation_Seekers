{
 "cells": [
  {
   "cell_type": "code",
   "execution_count": 17,
   "metadata": {},
   "outputs": [],
   "source": [
    "from nltk.corpus import stopwords\n",
    "text_file_B1 = open(\"B1.txt\", \"r\")\n",
    "data = text_file_B1.read()\n",
    "text_file_B1.close()\n",
    "names_list = data.split()\n",
    "filtered_word_list = names_list[:]  #make a copy of the word_list\n",
    "for word in names_list: # iterate over word_list\n",
    "  if word in stopwords.words('english'): \n",
    "    filtered_word_list.remove(word) # remove word from filtered_word_list if it is a stopword\n",
    "B1_Filterd = \" \".join(filtered_word_list)\n",
    "B1_Filterd\n",
    "text_file = open(\"B1_Filterd.txt\", \"w\")\n",
    "text_file.write(B1_Filterd)\n",
    "text_file.close()"
   ]
  },
  {
   "cell_type": "code",
   "execution_count": 18,
   "metadata": {},
   "outputs": [],
   "source": [
    "text_file_B2 = open(\"B2.txt\", \"r\")\n",
    "data = text_file_B2.read()\n",
    "text_file_B2.close()\n",
    "names_list = data.split()\n",
    "filtered_word_list = names_list[:]  #make a copy of the word_list\n",
    "for word in names_list: # iterate over word_list\n",
    "  if word in stopwords.words('english'): \n",
    "    filtered_word_list.remove(word) # remove word from filtered_word_list if it is a stopword\n",
    "B2_Filterd = \" \".join(filtered_word_list)\n",
    "B2_Filterd\n",
    "text_file = open(\"B2_Filterd.txt\", \"w\")\n",
    "text_file.write(B2_Filterd)\n",
    "text_file.close()"
   ]
  },
  {
   "cell_type": "code",
   "execution_count": 19,
   "metadata": {},
   "outputs": [],
   "source": [
    "text_file_B3 = open(\"B3.txt\", \"r\")\n",
    "data = text_file_B3.read()\n",
    "text_file_B3.close()\n",
    "names_list = data.split()\n",
    "filtered_word_list = names_list[:]  #make a copy of the word_list\n",
    "for word in names_list: # iterate over word_list\n",
    "  if word in stopwords.words('english'): \n",
    "    filtered_word_list.remove(word) # remove word from filtered_word_list if it is a stopword\n",
    "B3_Filterd = \" \".join(filtered_word_list)\n",
    "B3_Filterd\n",
    "text_file = open(\"B3_Filterd.txt\", \"w\")\n",
    "text_file.write(B3_Filterd)\n",
    "text_file.close()"
   ]
  }
 ],
 "metadata": {
  "interpreter": {
   "hash": "ed3e2ff046ac52617a1704c0e2b654c30871d2bd634d62eb90e0c3e386c4cfdc"
  },
  "kernelspec": {
   "display_name": "Python 3.8.5 64-bit ('base': conda)",
   "language": "python",
   "name": "python3"
  },
  "language_info": {
   "codemirror_mode": {
    "name": "ipython",
    "version": 3
   },
   "file_extension": ".py",
   "mimetype": "text/x-python",
   "name": "python",
   "nbconvert_exporter": "python",
   "pygments_lexer": "ipython3",
   "version": "3.8.5"
  },
  "orig_nbformat": 4
 },
 "nbformat": 4,
 "nbformat_minor": 2
}
