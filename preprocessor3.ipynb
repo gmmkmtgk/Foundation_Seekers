{
 "cells": [
  {
   "cell_type": "markdown",
   "metadata": {},
   "source": [
    "# Preprocessor for Text 3\n",
    "Preprocessing includes removing special characters, lowercasing all the letters and reducing the text to the main content."
   ]
  },
  {
   "cell_type": "markdown",
   "metadata": {},
   "source": [
    "### Setting Up"
   ]
  },
  {
   "cell_type": "code",
   "execution_count": 1,
   "metadata": {},
   "outputs": [],
   "source": [
    "import regex as re                  # Used for matching words in the text\n",
    "import unidecode                    # To remove Greek accents"
   ]
  },
  {
   "cell_type": "markdown",
   "metadata": {},
   "source": [
    "### Reading the Book"
   ]
  },
  {
   "cell_type": "code",
   "execution_count": 2,
   "metadata": {},
   "outputs": [
    {
     "name": "stdout",
     "output_type": "stream",
     "text": [
      "['\\ufeffThe Project Gutenberg eBook of The Secret of Toni, by Molly Elliot\\n', 'Seawell\\n', '\\n', 'This eBook is for the use of anyone anywhere in the United States and\\n', 'most other parts of the world at no cost and with almost no restrictions\\n', 'whatsoever. You may copy it, give it away or re-use it under the terms\\n', 'of the Project Gutenberg License included with this eBook or online at\\n', 'www.gutenberg.org. If you are not located in the United States, you\\n', 'will have to check the laws of the country where you are located before\\n', 'using this eBook.\\n']\n"
     ]
    }
   ],
   "source": [
    "book_name = \"The Secret of Toni by Molly Elliot Seawell.txt\"\n",
    "with open(book_name, encoding=\"utf-8\") as book:\n",
    "    lines = book.readlines()\n",
    "\n",
    "print(lines[:10])"
   ]
  },
  {
   "cell_type": "markdown",
   "metadata": {},
   "source": [
    "### Preprocessing"
   ]
  },
  {
   "cell_type": "code",
   "execution_count": 3,
   "metadata": {},
   "outputs": [
    {
     "name": "stdout",
     "output_type": "stream",
     "text": [
      "The main content is from line numbers 140 to 7366\n"
     ]
    }
   ],
   "source": [
    "# Extracting the main content from the text\n",
    "\n",
    "begin_index = lines.index(\"CHAPTER I\\n\")\n",
    "end_index = len(lines) - 1 - lines[::-1].index(\"THE END\\n\")\n",
    "print(\"The main content is from line numbers {} to {}\".format(begin_index, end_index))\n",
    "\n",
    "lines = lines[begin_index:end_index]        # Reducing lines to main content"
   ]
  },
  {
   "cell_type": "code",
   "execution_count": 4,
   "metadata": {},
   "outputs": [
    {
     "name": "stdout",
     "output_type": "stream",
     "text": [
      "[\"Toni's name was Antoine Marcel, but he was never called by it but once\\n\", 'in his life, and that was at his baptism, when he was eight days old.\\n', 'He had a shock of black hair and a snub nose, and the tan and freckles\\n', 'on his face were an inch thick, but he had a pair of black eyes so soft\\n', 'and bright and appealing that they might have belonged to one of the\\n', 'houris of Paradise. His wide mouth was full of sharp, white teeth, and\\n', 'when he smiled, which was very often, his smile began with his black\\n', 'eyes and ended with his white teeth.\\n', 'At ten years of age Toni was a complete man of the world--of his world,\\n', 'that is. This consisted of a gay, sunny little old garrison town,\\n']\n"
     ]
    }
   ],
   "source": [
    "# Removing chapter headings, part headings and empty lines\n",
    "\n",
    "part_pattern = r\"PART [IVX]+\"\n",
    "chapter_pattern = r\"CHAPTER [IVX]+\"\n",
    "\n",
    "temp = []\n",
    "for line in lines:\n",
    "    is_valid = ((line == '\\n') or re.match(part_pattern, line) or re.match(chapter_pattern, line))\n",
    "    if(not is_valid):               # If the line is neither a chapter number nor a part heading nor an empty line\n",
    "        temp.append(line)           # include it in the final list\n",
    "\n",
    "lines = temp\n",
    "print(lines[:10])\n"
   ]
  },
  {
   "cell_type": "code",
   "execution_count": 5,
   "metadata": {},
   "outputs": [
    {
     "name": "stdout",
     "output_type": "stream",
     "text": [
      "toni s name was antoine marcel but he was never called by it but once in his life and that was at his baptism when he was eight days old he had a shock of black hair and a snub nose and the tan and freckles on his face were an inch thick but he had a pair of black eyes so soft and bright and appealing that they might have belonged to one of the houris of paradise his wide mouth was full of sharp white teeth and when he smiled which was very often his smile began with his black eyes and ended with his white teeth at ten years of age toni was a complete man of the world of his world that is this consisted of a gay sunny little old garrison town bienville by name in the south of france he had his friends his foes his lady love and also he had arranged his plan of life he knew himself to be the most fortunate person in all bienville in the first place his mother madame marcel kept the only candy shop in the town and toni being the only child of his mother and she a widow enjoyed all the ad\n"
     ]
    }
   ],
   "source": [
    "# Removing special characters and combining all the lines into one string\n",
    "\n",
    "joined_book = ''.join(lines)                            # Combining all the lines to a single string\n",
    "joined_book = unidecode.unidecode(joined_book)          # Removing Greek accents\n",
    "joined_book = joined_book.lower()                       # Turing all the characters to lower case\n",
    "joined_book = re.sub('[\\s]+', '_', joined_book)         # Replacing spaces with '_'\n",
    "joined_book = re.sub('-{2,}', '_', joined_book)         # Replacing spaces with '_'\n",
    "joined_book = re.sub(r'\\W+', '_', joined_book)           # Removing non-alphanumeric characters\n",
    "joined_book = re.sub('[_]+', ' ', joined_book)             # Replacing '_' back to ' '\n",
    "\n",
    "print(joined_book[:1000])\n",
    "\n",
    "with open(\"T3.txt\", \"w\") as T3:\n",
    "    T3.write(joined_book)\n"
   ]
  }
 ],
 "metadata": {
  "interpreter": {
   "hash": "ed3e2ff046ac52617a1704c0e2b654c30871d2bd634d62eb90e0c3e386c4cfdc"
  },
  "kernelspec": {
   "display_name": "Python 3.8.5 64-bit ('base': conda)",
   "language": "python",
   "name": "python3"
  },
  "language_info": {
   "codemirror_mode": {
    "name": "ipython",
    "version": 3
   },
   "file_extension": ".py",
   "mimetype": "text/x-python",
   "name": "python",
   "nbconvert_exporter": "python",
   "pygments_lexer": "ipython3",
   "version": "3.9.1"
  },
  "orig_nbformat": 4
 },
 "nbformat": 4,
 "nbformat_minor": 2
}
