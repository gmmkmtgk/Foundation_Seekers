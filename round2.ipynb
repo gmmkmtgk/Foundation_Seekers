{
 "cells": [
  {
   "cell_type": "markdown",
   "metadata": {},
   "source": [
    "# Round 2"
   ]
  },
  {
   "cell_type": "markdown",
   "metadata": {},
   "source": [
    "## Setup"
   ]
  },
  {
   "cell_type": "code",
   "execution_count": 1,
   "metadata": {},
   "outputs": [],
   "source": [
    "import nltk                                 # Has necessary modules for PoS Tagging\n",
    "from nltk.corpus import stopwords           # Contains stop words that need to be removed\n",
    "from nltk import pos_tag                    # Used to perform PoS Tagging\n",
    "from nltk.corpus import wordnet             # Wordnet\n",
    "from nltk.stem import WordNetLemmatizer     # For lemmatizing words\n",
    "\n",
    "import spacy                                # For Name Entity Recognition\n",
    "from spacy import displacy                  # For displaying NERed text\n",
    "\n",
    "from sklearn.feature_extraction.text import TfidfVectorizer     # TF-IDF\n",
    "from sklearn.metrics.pairwise import cosine_similarity          # Cosine similarity\n",
    "import pandas as pd\n",
    "\n",
    "\n",
    "import matplotlib.pyplot as plt     # For drawing graphs\n"
   ]
  },
  {
   "cell_type": "markdown",
   "metadata": {},
   "source": [
    "T1 is \"The Kingmakers, by Burton E. Stevenson.txt\"\n",
    "\n",
    "T2 is \"The Return of Sherlock Holmes, by Sir Arthur Conan Doyle.txt\"\\n\n",
    "\n",
    "T3 is \"The Secret of Toni by Molly Elliot Seawell.txt\""
   ]
  },
  {
   "cell_type": "code",
   "execution_count": 2,
   "metadata": {},
   "outputs": [
    {
     "name": "stderr",
     "output_type": "stream",
     "text": [
      "[nltk_data] Downloading package punkt to C:\\Users\\Shivesh\n",
      "[nltk_data]     Kaundinya\\AppData\\Roaming\\nltk_data...\n",
      "[nltk_data]   Package punkt is already up-to-date!\n",
      "[nltk_data] Downloading package stopwords to C:\\Users\\Shivesh\n",
      "[nltk_data]     Kaundinya\\AppData\\Roaming\\nltk_data...\n",
      "[nltk_data]   Package stopwords is already up-to-date!\n"
     ]
    },
    {
     "name": "stdout",
     "output_type": "stream",
     "text": [
      "['countess', 'remond', 'selden', 'entering', 'dining', 'room', 'saw', 'lounge', 'crowded', 'paused', 'moment', 'look', 'half', 'hour', 'dinner', 'sporting', 'club', 'pleasantly', 'aware', 'odours', 'good', 'coffee', 'super', 'excellent', 'tobacco', 'mingled', 'delicate', 'expensive', 'perfumes', 'rising', 'clothes', 'hair', 'shoulders', 'women', 'lying', 'indolently', 'back', 'deep', 'chairs', 'women', 'dominated', 'scene', 'men', 'present', 'sure', 'unobtrusive', 'eye', 'strictly', 'utilitarian', 'donor']\n",
      "['spring', 'year', '1894', 'london', 'interested', 'fashionable', 'world', 'dismayed', 'murder', 'honourable', 'ronald', 'adair', 'unusual', 'inexplicable', 'circumstances', 'public', 'already', 'learned', 'particulars', 'crime', 'came', 'police', 'investigation', 'good', 'deal', 'suppressed', 'upon', 'occasion', 'since', 'case', 'prosecution', 'overwhelmingly', 'strong', 'necessary', 'bring', 'forward', 'facts', 'end', 'nearly', 'ten', 'years', 'allowed', 'supply', 'missing', 'links', 'make', 'whole', 'remarkable', 'chain', 'crime']\n",
      "['toni', 'name', 'antoine', 'marcel', 'never', 'called', 'life', 'baptism', 'eight', 'days', 'old', 'shock', 'black', 'hair', 'snub', 'nose', 'tan', 'freckles', 'face', 'inch', 'thick', 'pair', 'black', 'eyes', 'soft', 'bright', 'appealing', 'might', 'belonged', 'one', 'houris', 'paradise', 'wide', 'mouth', 'full', 'sharp', 'white', 'teeth', 'smiled', 'often', 'smile', 'began', 'black', 'eyes', 'ended', 'white', 'teeth', 'ten', 'years', 'age']\n"
     ]
    }
   ],
   "source": [
    "nltk.download('punkt')\n",
    "nltk.download('stopwords')\n",
    "all_stopwords = stopwords.words('english')\n",
    "\n",
    "tokenized_texts = [[] for _ in range(3)]\n",
    "\n",
    "for i in range(3):\n",
    "    with open(\"T{}.txt\".format(i + 1), \"r\") as text:\n",
    "        tokenized_texts[i] = nltk.word_tokenize(text.read())\n",
    "        tokenized_texts[i] = [word for word in tokenized_texts[i] if not word in all_stopwords]\n",
    "    print(tokenized_texts[i][:50])\n"
   ]
  },
  {
   "cell_type": "code",
   "execution_count": 3,
   "metadata": {},
   "outputs": [
    {
     "name": "stderr",
     "output_type": "stream",
     "text": [
      "[nltk_data] Downloading package averaged_perceptron_tagger to\n",
      "[nltk_data]     C:\\Users\\Shivesh\n",
      "[nltk_data]     Kaundinya\\AppData\\Roaming\\nltk_data...\n",
      "[nltk_data]   Package averaged_perceptron_tagger is already up-to-\n",
      "[nltk_data]       date!\n"
     ]
    },
    {
     "name": "stdout",
     "output_type": "stream",
     "text": [
      "[('countess', 'NN'), ('remond', 'NN'), ('selden', 'JJ'), ('entering', 'VBG'), ('dining', 'VBG'), ('room', 'NN'), ('saw', 'VBD'), ('lounge', 'NN'), ('crowded', 'VBD'), ('paused', 'JJ'), ('moment', 'NN'), ('look', 'NN'), ('half', 'JJ'), ('hour', 'NN'), ('dinner', 'NN'), ('sporting', 'VBG'), ('club', 'NN'), ('pleasantly', 'RB'), ('aware', 'JJ'), ('odours', 'NNS'), ('good', 'JJ'), ('coffee', 'NN'), ('super', 'JJ'), ('excellent', 'JJ'), ('tobacco', 'NN'), ('mingled', 'VBD'), ('delicate', 'JJ'), ('expensive', 'JJ'), ('perfumes', 'NNS'), ('rising', 'VBG'), ('clothes', 'NNS'), ('hair', 'JJ'), ('shoulders', 'NNS'), ('women', 'NNS'), ('lying', 'VBG'), ('indolently', 'RB'), ('back', 'RB'), ('deep', 'JJ'), ('chairs', 'NNS'), ('women', 'NNS'), ('dominated', 'VBD'), ('scene', 'JJ'), ('men', 'NNS'), ('present', 'JJ'), ('sure', 'JJ'), ('unobtrusive', 'JJ'), ('eye', 'NN'), ('strictly', 'RB'), ('utilitarian', 'JJ'), ('donor', 'NN')]\n",
      "[('spring', 'NN'), ('year', 'NN'), ('1894', 'CD'), ('london', 'NN'), ('interested', 'JJ'), ('fashionable', 'JJ'), ('world', 'NN'), ('dismayed', 'VBD'), ('murder', 'NN'), ('honourable', 'JJ'), ('ronald', 'NN'), ('adair', 'NN'), ('unusual', 'JJ'), ('inexplicable', 'JJ'), ('circumstances', 'NNS'), ('public', 'JJ'), ('already', 'RB'), ('learned', 'VBN'), ('particulars', 'NNS'), ('crime', 'NN'), ('came', 'VBD'), ('police', 'JJ'), ('investigation', 'NN'), ('good', 'JJ'), ('deal', 'NN'), ('suppressed', 'VBN'), ('upon', 'IN'), ('occasion', 'NN'), ('since', 'IN'), ('case', 'NN'), ('prosecution', 'NN'), ('overwhelmingly', 'RB'), ('strong', 'JJ'), ('necessary', 'JJ'), ('bring', 'NN'), ('forward', 'RB'), ('facts', 'VBZ'), ('end', 'VBP'), ('nearly', 'RB'), ('ten', 'JJ'), ('years', 'NNS'), ('allowed', 'VBD'), ('supply', 'NN'), ('missing', 'VBG'), ('links', 'NNS'), ('make', 'VBP'), ('whole', 'JJ'), ('remarkable', 'NN'), ('chain', 'NN'), ('crime', 'NN')]\n",
      "[('toni', 'NN'), ('name', 'NN'), ('antoine', 'JJ'), ('marcel', 'NN'), ('never', 'RB'), ('called', 'VBD'), ('life', 'NN'), ('baptism', 'NN'), ('eight', 'CD'), ('days', 'NNS'), ('old', 'JJ'), ('shock', 'JJ'), ('black', 'JJ'), ('hair', 'NN'), ('snub', 'NN'), ('nose', 'JJ'), ('tan', 'NN'), ('freckles', 'NNS'), ('face', 'VBP'), ('inch', 'JJ'), ('thick', 'JJ'), ('pair', 'NN'), ('black', 'JJ'), ('eyes', 'NNS'), ('soft', 'JJ'), ('bright', 'VBD'), ('appealing', 'VBG'), ('might', 'MD'), ('belonged', 'VB'), ('one', 'CD'), ('houris', 'NN'), ('paradise', 'NN'), ('wide', 'JJ'), ('mouth', 'CC'), ('full', 'JJ'), ('sharp', 'JJ'), ('white', 'JJ'), ('teeth', 'NNS'), ('smiled', 'VBD'), ('often', 'RB'), ('smile', 'JJ'), ('began', 'VBD'), ('black', 'JJ'), ('eyes', 'NNS'), ('ended', 'VBD'), ('white', 'JJ'), ('teeth', 'JJ'), ('ten', 'NN'), ('years', 'NNS'), ('age', 'NN')]\n"
     ]
    }
   ],
   "source": [
    "nltk.download('averaged_perceptron_tagger')\n",
    "\n",
    "tagged_texts = [pos_tag(tokens) for tokens in tokenized_texts]\n",
    "\n",
    "for tagged_text in tagged_texts:\n",
    "    print(tagged_text[:50])"
   ]
  },
  {
   "cell_type": "markdown",
   "metadata": {},
   "source": [
    "## Part A"
   ]
  },
  {
   "cell_type": "code",
   "execution_count": 4,
   "metadata": {},
   "outputs": [
    {
     "name": "stdout",
     "output_type": "stream",
     "text": [
      "\n",
      "Nouns\n",
      "[('countess', 'NN'), ('remond', 'NN'), ('room', 'NN'), ('lounge', 'NN'), ('moment', 'NN'), ('look', 'NN'), ('hour', 'NN'), ('dinner', 'NN'), ('club', 'NN'), ('odours', 'NNS'), ('coffee', 'NN'), ('tobacco', 'NN'), ('perfumes', 'NNS'), ('clothes', 'NNS'), ('shoulders', 'NNS'), ('women', 'NNS'), ('chairs', 'NNS'), ('women', 'NNS'), ('men', 'NNS'), ('eye', 'NN'), ('donor', 'NN'), ('picture', 'NN'), ('madonna', 'NN'), ('men', 'NNS'), ('donors', 'NNS'), ('things', 'NNS'), ('resemblance', 'NN'), ('nothing', 'NN'), ('madonna', 'NN'), ('women', 'NNS'), ('brune', 'NN'), ('contours', 'NNS'), ('quality', 'NN'), ('spirit', 'NN'), ('sisterhood', 'NN'), ('gowns', 'NNS'), ('material', 'NN'), ('degree', 'NN'), ('eccentricity', 'NN'), ('underlay', 'NN'), ('neck', 'NN'), ('rope', 'NN'), ('pearls', 'NN'), ('hand', 'NN'), ('diamonds', 'NNS'), ('treasures', 'NNS'), ('creations', 'NNS'), ('beauty', 'NN'), ('difference', 'NN'), ('beauty', 'NN')]\n",
      "[('spring', 'NN'), ('year', 'NN'), ('london', 'NN'), ('world', 'NN'), ('murder', 'NN'), ('ronald', 'NN'), ('adair', 'NN'), ('circumstances', 'NNS'), ('particulars', 'NNS'), ('crime', 'NN'), ('investigation', 'NN'), ('deal', 'NN'), ('occasion', 'NN'), ('case', 'NN'), ('prosecution', 'NN'), ('bring', 'NN'), ('years', 'NNS'), ('supply', 'NN'), ('links', 'NNS'), ('remarkable', 'NN'), ('chain', 'NN'), ('crime', 'NN'), ('interest', 'NN'), ('interest', 'NN'), ('nothing', 'NN'), ('sequel', 'NN'), ('shock', 'NN'), ('surprise', 'NN'), ('event', 'NN'), ('life', 'NN'), ('flood', 'NN'), ('joy', 'NN'), ('incredulity', 'NN'), ('mind', 'NN'), ('let', 'NNS'), ('interest', 'NN'), ('glimpses', 'NNS'), ('thoughts', 'NNS'), ('actions', 'NNS'), ('man', 'NN'), ('blame', 'NN'), ('knowledge', 'NN'), ('duty', 'NN'), ('prohibition', 'NN'), ('lips', 'NNS'), ('month', 'NN'), ('intimacy', 'NN'), ('sherlock', 'NN'), ('holmes', 'NNS'), ('crime', 'NN')]\n",
      "[('toni', 'NN'), ('name', 'NN'), ('marcel', 'NN'), ('life', 'NN'), ('baptism', 'NN'), ('days', 'NNS'), ('hair', 'NN'), ('snub', 'NN'), ('tan', 'NN'), ('freckles', 'NNS'), ('pair', 'NN'), ('eyes', 'NNS'), ('houris', 'NN'), ('paradise', 'NN'), ('teeth', 'NNS'), ('eyes', 'NNS'), ('ten', 'NN'), ('years', 'NNS'), ('age', 'NN'), ('man', 'NN'), ('world', 'NN'), ('world', 'NN'), ('garrison', 'NN'), ('town', 'NN'), ('bienville', 'NN'), ('name', 'NN'), ('france', 'NN'), ('friends', 'NNS'), ('love', 'NN'), ('life', 'NN'), ('person', 'NN'), ('place', 'NN'), ('mother', 'NN'), ('madame', 'NN'), ('marcel', 'NN'), ('candy', 'NN'), ('shop', 'NN'), ('town', 'NN'), ('child', 'NN'), ('mother', 'NN'), ('advantages', 'NNS'), ('position', 'NN'), ('father', 'NN'), ('boys', 'NN'), ('paul', 'NN'), ('verney', 'NN'), ('example', 'NN'), ('son', 'NN'), ('school', 'NN'), ('stomach', 'NN')]\n",
      "\n",
      "Verbs\n",
      "[('entering', 'VBG'), ('dining', 'VBG'), ('saw', 'VBD'), ('crowded', 'VBD'), ('sporting', 'VBG'), ('mingled', 'VBD'), ('rising', 'VBG'), ('lying', 'VBG'), ('dominated', 'VBD'), ('kneeling', 'VBG'), ('paid', 'VBN'), ('painted', 'VBN'), ('ended', 'VBD'), ('differed', 'VBD'), ('ages', 'VBZ'), ('ran', 'VBD'), ('clustered', 'VBD'), ('tributes', 'VBZ'), ('beauty', 'VBP'), ('suppose', 'VB'), ('showered', 'VBN'), ('slim', 'VBP'), ('dazzling', 'VBG'), ('fat', 'VBP'), ('raddled', 'VBN'), ('gazing', 'VBG'), ('darkened', 'VBD'), ('disillusioned', 'VBD'), ('displayed', 'VBN'), ('moved', 'VBD'), ('end', 'VBP'), ('wondered', 'VBD'), ('summoned', 'VBN'), ('told', 'VBD'), ('known', 'VBN'), ('stopping', 'VBG'), ('handed', 'VBD'), ('dressing', 'VBG'), ('piqued', 'VBN'), ('piqued', 'VBN'), ('evening', 'VBG'), ('give', 'VB'), ('express', 'VBP'), ('learn', 'VBP'), ('prove', 'VB'), ('writing', 'VBG'), ('seen', 'VBN'), ('persuaded', 'VBD'), ('acknowledged', 'VBD'), ('started', 'VBD')]\n",
      "[('dismayed', 'VBD'), ('learned', 'VBN'), ('came', 'VBD'), ('suppressed', 'VBN'), ('facts', 'VBZ'), ('end', 'VBP'), ('allowed', 'VBD'), ('missing', 'VBG'), ('make', 'VBP'), ('compared', 'VBN'), ('afforded', 'VBD'), ('find', 'VBP'), ('thrilling', 'VBG'), ('think', 'VBP'), ('feeling', 'VBG'), ('submerged', 'VBD'), ('say', 'VBP'), ('shown', 'VBN'), ('given', 'VBN'), ('shared', 'VBD'), ('considered', 'VBN'), ('barred', 'VBD'), ('withdrawn', 'VBP'), ('imagined', 'VBD'), ('failed', 'VBD'), ('came', 'VBD'), ('appealed', 'VBD'), ('ronald', 'VBP'), ('led', 'VBN'), ('realized', 'VBD'), ('done', 'VBN'), ('sustained', 'VBN'), ('holmes', 'VBZ'), ('sure', 'VB'), ('supplemented', 'VB'), ('anticipated', 'VBN'), ('drove', 'VBD'), ('turned', 'VBD'), ('found', 'VBD'), ('appeared', 'VBD'), ('telling', 'VBG'), ('told', 'VBN'), ('known', 'VBN'), ('adair', 'VBP'), ('returned', 'VBN'), ('living', 'VBG'), ('moved', 'VBD'), ('known', 'VBN'), ('engaged', 'VBD'), ('engagement', 'VBP')]\n",
      "[('called', 'VBD'), ('face', 'VBP'), ('bright', 'VBD'), ('appealing', 'VBG'), ('belonged', 'VB'), ('smiled', 'VBD'), ('began', 'VBD'), ('ended', 'VBD'), ('toni', 'VBD'), ('consisted', 'VBD'), ('foes', 'VBP'), ('arranged', 'VBD'), ('knew', 'VBD'), ('kept', 'VBD'), ('enjoyed', 'VBN'), ('envied', 'VBN'), ('advocate', 'VBP'), ('make', 'VBP'), ('lie', 'VB'), ('dancing', 'VBG'), ('stumbling', 'VBG'), ('paul', 'VBP'), ('toni', 'VBP'), ('owing', 'VBG'), ('lack', 'VB'), ('cheeked', 'VBD'), ('set', 'VBN'), ('idle', 'VBP'), ('determined', 'VBD'), ('toni', 'VBP'), ('consumed', 'VBN'), ('boys', 'VBZ'), ('toni', 'VBP'), ('classed', 'VBN'), ('formed', 'VBD'), ('soul', 'VBP'), ('discerning', 'VBG'), ('realized', 'VBN'), ('loved', 'VB'), ('kept', 'VBD'), ('differentiated', 'VBD'), ('gave', 'VBD'), ('resented', 'VB'), ('paul', 'VBP'), ('made', 'VBD'), ('imposing', 'VBG'), ('shako', 'VBP'), ('remained', 'VBD'), ('lived', 'VBD'), ('intimate', 'VB')]\n"
     ]
    }
   ],
   "source": [
    "# Filter all the noun and verb tags\n",
    "\n",
    "all_noun_tags = []\n",
    "all_verb_tags = []\n",
    "\n",
    "for tagged_text in tagged_texts:\n",
    "    all_noun_tags.append([])\n",
    "    all_verb_tags.append([])\n",
    "    for tag in tagged_text:\n",
    "        if tag[1][:2] == 'NN':\n",
    "            all_noun_tags[-1].append(tag)\n",
    "        elif tag[1][:2] == 'VB':\n",
    "            all_verb_tags[-1].append(tag)\n",
    "\n",
    "print(\"\\nNouns\")\n",
    "for tags in all_noun_tags:\n",
    "    print(tags[:50])\n",
    "\n",
    "print(\"\\nVerbs\")\n",
    "for tags in all_verb_tags:\n",
    "    print(tags[:50])\n"
   ]
  },
  {
   "cell_type": "code",
   "execution_count": 5,
   "metadata": {},
   "outputs": [
    {
     "name": "stderr",
     "output_type": "stream",
     "text": [
      "[nltk_data] Downloading package wordnet to C:\\Users\\Shivesh\n",
      "[nltk_data]     Kaundinya\\AppData\\Roaming\\nltk_data...\n",
      "[nltk_data]   Package wordnet is already up-to-date!\n"
     ]
    }
   ],
   "source": [
    "nltk.download('wordnet')\n",
    "\n",
    "# Function to take nouns and verbs of a text and return corresponding frequency dictionaries\n",
    "def create_dictionaries(*args):\n",
    "  # First dictionary is for nouns\n",
    "  # Second dictionary is for verbs\n",
    "  dicts = ({}, {})\n",
    "\n",
    "  for i in range(2):\n",
    "    for tag in args[i]:\n",
    "      syn = wordnet.synsets(tag[0])\n",
    "      for s in syn:\n",
    "        x = s.lexname()\n",
    "        if x[0] == 'nv'[i]:\n",
    "          if x in dicts[i]:\n",
    "            dicts[i][x] += 1\n",
    "          else:\n",
    "            dicts[i][x] = 1\n",
    "\n",
    "  return dicts\n"
   ]
  },
  {
   "cell_type": "code",
   "execution_count": 6,
   "metadata": {},
   "outputs": [],
   "source": [
    "# Draws a bar graph for a given frequency distribution\n",
    "def bar_graph(dictionary, color):\n",
    "    plt.bar(dictionary.keys(), dictionary.values(), color=color)\n",
    "    y_pos = range(len(dictionary.keys()))\n",
    "    plt.xticks(y_pos, dictionary.keys(), rotation=90)\n",
    "    plt.show()\n"
   ]
  },
  {
   "cell_type": "code",
   "execution_count": 7,
   "metadata": {},
   "outputs": [
    {
     "data": {
      "image/png": "[encoded data removed]",
      "text/plain": [
       "<Figure size 432x288 with 1 Axes>"
      ]
     },
     "metadata": {
      "needs_background": "light"
     },
     "output_type": "display_data"
    },
    {
     "data": {
      "image/png": "[encoded data removed]",
      "text/plain": [
       "<Figure size 432x288 with 1 Axes>"
      ]
     },
     "metadata": {
      "needs_background": "light"
     },
     "output_type": "display_data"
    },
    {
     "data": {
      "image/png": "[encoded data removed]",
      "text/plain": [
       "<Figure size 432x288 with 1 Axes>"
      ]
     },
     "metadata": {
      "needs_background": "light"
     },
     "output_type": "display_data"
    },
    {
     "data": {
      "image/png": "[encoded data removed]",
      "text/plain": [
       "<Figure size 432x288 with 1 Axes>"
      ]
     },
     "metadata": {
      "needs_background": "light"
     },
     "output_type": "display_data"
    },
    {
     "data": {
      "image/png": "[encoded data removed]",
      "text/plain": [
       "<Figure size 432x288 with 1 Axes>"
      ]
     },
     "metadata": {
      "needs_background": "light"
     },
     "output_type": "display_data"
    },
    {
     "data": {
      "image/png": "[encoded data removed]",
      "text/plain": [
       "<Figure size 432x288 with 1 Axes>"
      ]
     },
     "metadata": {
      "needs_background": "light"
     },
     "output_type": "display_data"
    }
   ],
   "source": [
    "# For every text, create its frequency dictionary and draw the bar graph\n",
    "for idx in range(3):\n",
    "    noun_dict, verb_dict = create_dictionaries(all_noun_tags[idx], all_verb_tags[idx])\n",
    "    bar_graph(noun_dict, 'r')\n",
    "    bar_graph(verb_dict, 'b')\n"
   ]
  },
  {
   "cell_type": "markdown",
   "metadata": {},
   "source": [
    "## Part B"
   ]
  },
  {
   "cell_type": "code",
   "execution_count": 8,
   "metadata": {},
   "outputs": [
    {
     "name": "stdout",
     "output_type": "stream",
     "text": [
      "People, including fictional\n",
      "Non-GPE locations, mountain ranges, bodies of water\n",
      "Companies, agencies, institutions, etc.\n"
     ]
    },
    {
     "data": {
      "text/html": [
       "<span class=\"tex2jax_ignore\"><div class=\"entities\" style=\"line-height: 2.5; direction: ltr\">countess remond selden entering dining room saw lounge crowded paused moment \n",
       "<mark class=\"entity\" style=\"background: #bfe1d9; padding: 0.45em 0.6em; margin: 0 0.25em; line-height: 1; border-radius: 0.35em;\">\n",
       "    look half hour\n",
       "    <span style=\"font-size: 0.8em; font-weight: bold; line-height: 1; border-radius: 0.35em; vertical-align: middle; margin-left: 0.5rem\">TIME</span>\n",
       "</mark>\n",
       " dinner sporting club pleasantly aware odours good coffee super excellent tobacco mingled delicate expensive perfumes rising clothes hair shoulders women lying indolently back deep chairs women dominated scene men present sure unobtrusive eye strictly utilitarian donor kneeling humbly corner picture madonna paid painted men donors many things besides paint resemblance ended nothing madonna like women differed blonde brune various contours ages subtle quality spirit bound together common sisterhood gowns ran gamut rainbow every material degree eccentricity common purpose underlay every neck bore rope pearls every hand </div></span>"
      ],
      "text/plain": [
       "<IPython.core.display.HTML object>"
      ]
     },
     "metadata": {},
     "output_type": "display_data"
    },
    {
     "data": {
      "text/html": [
       "<span class=\"tex2jax_ignore\"><div class=\"entities\" style=\"line-height: 2.5; direction: ltr\">\n",
       "<mark class=\"entity\" style=\"background: #bfe1d9; padding: 0.45em 0.6em; margin: 0 0.25em; line-height: 1; border-radius: 0.35em;\">\n",
       "    spring year\n",
       "    <span style=\"font-size: 0.8em; font-weight: bold; line-height: 1; border-radius: 0.35em; vertical-align: middle; margin-left: 0.5rem\">DATE</span>\n",
       "</mark>\n",
       " 1894 \n",
       "<mark class=\"entity\" style=\"background: #feca74; padding: 0.45em 0.6em; margin: 0 0.25em; line-height: 1; border-radius: 0.35em;\">\n",
       "    london\n",
       "    <span style=\"font-size: 0.8em; font-weight: bold; line-height: 1; border-radius: 0.35em; vertical-align: middle; margin-left: 0.5rem\">GPE</span>\n",
       "</mark>\n",
       " interested fashionable world dismayed murder honourable ronald adair unusual inexplicable circumstances public already learned particulars crime came police investigation good deal suppressed upon occasion since case prosecution overwhelmingly strong necessary bring forward facts end \n",
       "<mark class=\"entity\" style=\"background: #bfe1d9; padding: 0.45em 0.6em; margin: 0 0.25em; line-height: 1; border-radius: 0.35em;\">\n",
       "    nearly ten years\n",
       "    <span style=\"font-size: 0.8em; font-weight: bold; line-height: 1; border-radius: 0.35em; vertical-align: middle; margin-left: 0.5rem\">DATE</span>\n",
       "</mark>\n",
       " allowed supply missing links make whole remarkable chain crime interest interest nothing compared inconceivable sequel afforded greatest shock surprise event adventurous life even long interval find thrilling think feeling sudden flood joy amazement incredulity utterly submerged mind let say public shown interest glimpses occasionally given thoughts actions remarkable man blame shared knowledge considered \n",
       "<mark class=\"entity\" style=\"background: #e4e7d2; padding: 0.45em 0.6em; margin: 0 0.25em; line-height: 1; border-radius: 0.35em;\">\n",
       "    first\n",
       "    <span style=\"font-size: 0.8em; font-weight: bold; line-height: 1; border-radius: 0.35em; vertical-align: middle; margin-left: 0.5rem\">ORDINAL</span>\n",
       "</mark>\n",
       " duty barred positive prohibition lips </div></span>"
      ],
      "text/plain": [
       "<IPython.core.display.HTML object>"
      ]
     },
     "metadata": {},
     "output_type": "display_data"
    },
    {
     "data": {
      "text/html": [
       "<span class=\"tex2jax_ignore\"><div class=\"entities\" style=\"line-height: 2.5; direction: ltr\">\n",
       "<mark class=\"entity\" style=\"background: #aa9cfc; padding: 0.45em 0.6em; margin: 0 0.25em; line-height: 1; border-radius: 0.35em;\">\n",
       "    toni name\n",
       "    <span style=\"font-size: 0.8em; font-weight: bold; line-height: 1; border-radius: 0.35em; vertical-align: middle; margin-left: 0.5rem\">PERSON</span>\n",
       "</mark>\n",
       " antoine marcel never called life baptism \n",
       "<mark class=\"entity\" style=\"background: #bfe1d9; padding: 0.45em 0.6em; margin: 0 0.25em; line-height: 1; border-radius: 0.35em;\">\n",
       "    eight days old\n",
       "    <span style=\"font-size: 0.8em; font-weight: bold; line-height: 1; border-radius: 0.35em; vertical-align: middle; margin-left: 0.5rem\">DATE</span>\n",
       "</mark>\n",
       " shock black hair snub nose tan freckles face inch thick pair black eyes soft bright appealing might belonged \n",
       "<mark class=\"entity\" style=\"background: #e4e7d2; padding: 0.45em 0.6em; margin: 0 0.25em; line-height: 1; border-radius: 0.35em;\">\n",
       "    one\n",
       "    <span style=\"font-size: 0.8em; font-weight: bold; line-height: 1; border-radius: 0.35em; vertical-align: middle; margin-left: 0.5rem\">CARDINAL</span>\n",
       "</mark>\n",
       " houris paradise wide mouth full sharp white teeth smiled often smile began black eyes ended white teeth \n",
       "<mark class=\"entity\" style=\"background: #bfe1d9; padding: 0.45em 0.6em; margin: 0 0.25em; line-height: 1; border-radius: 0.35em;\">\n",
       "    ten years\n",
       "    <span style=\"font-size: 0.8em; font-weight: bold; line-height: 1; border-radius: 0.35em; vertical-align: middle; margin-left: 0.5rem\">DATE</span>\n",
       "</mark>\n",
       " age toni complete man world world consisted gay sunny little old \n",
       "<mark class=\"entity\" style=\"background: #7aecec; padding: 0.45em 0.6em; margin: 0 0.25em; line-height: 1; border-radius: 0.35em;\">\n",
       "    garrison town\n",
       "    <span style=\"font-size: 0.8em; font-weight: bold; line-height: 1; border-radius: 0.35em; vertical-align: middle; margin-left: 0.5rem\">ORG</span>\n",
       "</mark>\n",
       " \n",
       "<mark class=\"entity\" style=\"background: #feca74; padding: 0.45em 0.6em; margin: 0 0.25em; line-height: 1; border-radius: 0.35em;\">\n",
       "    bienville\n",
       "    <span style=\"font-size: 0.8em; font-weight: bold; line-height: 1; border-radius: 0.35em; vertical-align: middle; margin-left: 0.5rem\">GPE</span>\n",
       "</mark>\n",
       " name \n",
       "<mark class=\"entity\" style=\"background: #c887fb; padding: 0.45em 0.6em; margin: 0 0.25em; line-height: 1; border-radius: 0.35em;\">\n",
       "    south france\n",
       "    <span style=\"font-size: 0.8em; font-weight: bold; line-height: 1; border-radius: 0.35em; vertical-align: middle; margin-left: 0.5rem\">NORP</span>\n",
       "</mark>\n",
       " friends foes lady love also arranged plan life knew fortunate person bienville \n",
       "<mark class=\"entity\" style=\"background: #e4e7d2; padding: 0.45em 0.6em; margin: 0 0.25em; line-height: 1; border-radius: 0.35em;\">\n",
       "    first\n",
       "    <span style=\"font-size: 0.8em; font-weight: bold; line-height: 1; border-radius: 0.35em; vertical-align: middle; margin-left: 0.5rem\">ORDINAL</span>\n",
       "</mark>\n",
       " place mother madame marcel kept candy shop town toni child mother widow enjoyed advantages envied position father boys paul verney example </div></span>"
      ],
      "text/plain": [
       "<IPython.core.display.HTML object>"
      ]
     },
     "metadata": {},
     "output_type": "display_data"
    }
   ],
   "source": [
    "recogniser = spacy.load('en_core_web_sm')\n",
    "\n",
    "# Function to get tokens of a text and display a NERed text\n",
    "def NER(tokens):\n",
    "    text = ' '.join(tokens)\n",
    "    data = recogniser(text)\n",
    "    displacy.render(data[:100], style=\"ent\", jupyter=True)\n",
    "\n",
    "# Description for a few tags\n",
    "print(spacy.explain(\"PERSON\"))\n",
    "print(spacy.explain(\"LOC\"))\n",
    "print(spacy.explain(\"ORG\"))\n",
    "\n",
    "# Perform NER for all the texts\n",
    "for tokens in tokenized_texts:\n",
    "    NER(tokens[:500])\n"
   ]
  },
  {
   "cell_type": "markdown",
   "metadata": {},
   "source": [
    "## Part C"
   ]
  },
  {
   "cell_type": "code",
   "execution_count": 11,
   "metadata": {},
   "outputs": [],
   "source": [
    "\n",
    "lemmatizer = WordNetLemmatizer()\n",
    "\n",
    "def lemmatize(tokens):\n",
    "    lemmatized_tokens = []\n",
    "    for t in tokens:\n",
    "        lemmatized_tokens.append(lemmatizer.lemmatize(t))\n",
    "    return ' '.join(lemmatized_tokens)\n",
    "\n",
    "vectorizer = TfidfVectorizer(min_df=0.1, stop_words=all_stopwords)\n"
   ]
  },
  {
   "cell_type": "markdown",
   "metadata": {},
   "source": [
    "#### Without Lemmatization"
   ]
  },
  {
   "cell_type": "code",
   "execution_count": 12,
   "metadata": {},
   "outputs": [
    {
     "name": "stderr",
     "output_type": "stream",
     "text": [
      "C:\\Users\\Shivesh Kaundinya\\AppData\\Local\\Programs\\Python\\Python39\\lib\\site-packages\\sklearn\\utils\\deprecation.py:87: FutureWarning: Function get_feature_names is deprecated; get_feature_names is deprecated in 1.0 and will be removed in 1.2. Please use get_feature_names_out instead.\n",
      "  warnings.warn(msg, category=FutureWarning)\n"
     ]
    },
    {
     "data": {
      "text/html": [
       "<div>\n",
       "<style scoped>\n",
       "    .dataframe tbody tr th:only-of-type {\n",
       "        vertical-align: middle;\n",
       "    }\n",
       "\n",
       "    .dataframe tbody tr th {\n",
       "        vertical-align: top;\n",
       "    }\n",
       "\n",
       "    .dataframe thead th {\n",
       "        text-align: right;\n",
       "    }\n",
       "</style>\n",
       "<table border=\"1\" class=\"dataframe\">\n",
       "  <thead>\n",
       "    <tr style=\"text-align: right;\">\n",
       "      <th></th>\n",
       "      <th>00</th>\n",
       "      <th>12</th>\n",
       "      <th>123</th>\n",
       "      <th>13</th>\n",
       "      <th>131</th>\n",
       "      <th>13th</th>\n",
       "      <th>144</th>\n",
       "      <th>14th</th>\n",
       "      <th>15</th>\n",
       "      <th>16</th>\n",
       "      <th>...</th>\n",
       "      <th>youthful</th>\n",
       "      <th>youths</th>\n",
       "      <th>yoxley</th>\n",
       "      <th>ysaye</th>\n",
       "      <th>ze</th>\n",
       "      <th>zealous</th>\n",
       "      <th>zenith</th>\n",
       "      <th>zephyr</th>\n",
       "      <th>zest</th>\n",
       "      <th>zoo</th>\n",
       "    </tr>\n",
       "  </thead>\n",
       "  <tbody>\n",
       "    <tr>\n",
       "      <th>B1</th>\n",
       "      <td>0.000000</td>\n",
       "      <td>0.000000</td>\n",
       "      <td>0.000000</td>\n",
       "      <td>0.000000</td>\n",
       "      <td>0.000000</td>\n",
       "      <td>0.000000</td>\n",
       "      <td>0.000000</td>\n",
       "      <td>0.000000</td>\n",
       "      <td>0.000000</td>\n",
       "      <td>0.000000</td>\n",
       "      <td>...</td>\n",
       "      <td>0.000000</td>\n",
       "      <td>0.000942</td>\n",
       "      <td>0.000000</td>\n",
       "      <td>0.000000</td>\n",
       "      <td>0.000942</td>\n",
       "      <td>0.000000</td>\n",
       "      <td>0.000000</td>\n",
       "      <td>0.000000</td>\n",
       "      <td>0.000000</td>\n",
       "      <td>0.000000</td>\n",
       "    </tr>\n",
       "    <tr>\n",
       "      <th>B2</th>\n",
       "      <td>0.000000</td>\n",
       "      <td>0.000743</td>\n",
       "      <td>0.000000</td>\n",
       "      <td>0.000743</td>\n",
       "      <td>0.001485</td>\n",
       "      <td>0.000743</td>\n",
       "      <td>0.000000</td>\n",
       "      <td>0.000743</td>\n",
       "      <td>0.000743</td>\n",
       "      <td>0.001485</td>\n",
       "      <td>...</td>\n",
       "      <td>0.000565</td>\n",
       "      <td>0.000000</td>\n",
       "      <td>0.005198</td>\n",
       "      <td>0.000000</td>\n",
       "      <td>0.000000</td>\n",
       "      <td>0.000743</td>\n",
       "      <td>0.000743</td>\n",
       "      <td>0.000000</td>\n",
       "      <td>0.000743</td>\n",
       "      <td>0.000743</td>\n",
       "    </tr>\n",
       "    <tr>\n",
       "      <th>B3</th>\n",
       "      <td>0.000686</td>\n",
       "      <td>0.000000</td>\n",
       "      <td>0.000686</td>\n",
       "      <td>0.000000</td>\n",
       "      <td>0.000000</td>\n",
       "      <td>0.000000</td>\n",
       "      <td>0.000686</td>\n",
       "      <td>0.000000</td>\n",
       "      <td>0.000000</td>\n",
       "      <td>0.000000</td>\n",
       "      <td>...</td>\n",
       "      <td>0.001044</td>\n",
       "      <td>0.000000</td>\n",
       "      <td>0.000000</td>\n",
       "      <td>0.001373</td>\n",
       "      <td>0.000000</td>\n",
       "      <td>0.000000</td>\n",
       "      <td>0.000000</td>\n",
       "      <td>0.000686</td>\n",
       "      <td>0.000000</td>\n",
       "      <td>0.000000</td>\n",
       "    </tr>\n",
       "  </tbody>\n",
       "</table>\n",
       "<p>3 rows × 12613 columns</p>\n",
       "</div>"
      ],
      "text/plain": [
       "          00        12       123        13       131      13th       144  \\\n",
       "B1  0.000000  0.000000  0.000000  0.000000  0.000000  0.000000  0.000000   \n",
       "B2  0.000000  0.000743  0.000000  0.000743  0.001485  0.000743  0.000000   \n",
       "B3  0.000686  0.000000  0.000686  0.000000  0.000000  0.000000  0.000686   \n",
       "\n",
       "        14th        15        16  ...  youthful    youths    yoxley     ysaye  \\\n",
       "B1  0.000000  0.000000  0.000000  ...  0.000000  0.000942  0.000000  0.000000   \n",
       "B2  0.000743  0.000743  0.001485  ...  0.000565  0.000000  0.005198  0.000000   \n",
       "B3  0.000000  0.000000  0.000000  ...  0.001044  0.000000  0.000000  0.001373   \n",
       "\n",
       "          ze   zealous    zenith    zephyr      zest       zoo  \n",
       "B1  0.000942  0.000000  0.000000  0.000000  0.000000  0.000000  \n",
       "B2  0.000000  0.000743  0.000743  0.000000  0.000743  0.000743  \n",
       "B3  0.000000  0.000000  0.000000  0.000686  0.000000  0.000000  \n",
       "\n",
       "[3 rows x 12613 columns]"
      ]
     },
     "execution_count": 12,
     "metadata": {},
     "output_type": "execute_result"
    }
   ],
   "source": [
    "corpus1 = [' '.join(tokens) for tokens in tokenized_texts]\n",
    "\n",
    "tfidf = vectorizer.fit_transform(corpus1)\n",
    "pd.DataFrame(tfidf.toarray(), \n",
    "                columns=vectorizer.get_feature_names(), \n",
    "                index=['B1', 'B2', 'B3'])\n"
   ]
  },
  {
   "cell_type": "code",
   "execution_count": 13,
   "metadata": {},
   "outputs": [
    {
     "name": "stdout",
     "output_type": "stream",
     "text": [
      "Cosine Similarity before Lemmatization\n",
      "T1 and T2: [[0.44136571]]\n",
      "T2 and T3: [[0.25574917]]\n",
      "T3 and T1: [[0.26359758]]\n"
     ]
    }
   ],
   "source": [
    "print(\"Cosine Similarity before Lemmatization\")\n",
    "print(\"T1 and T2: {}\".format(cosine_similarity(tfidf[0], tfidf[1])))\n",
    "print(\"T2 and T3: {}\".format(cosine_similarity(tfidf[1], tfidf[2])))\n",
    "print(\"T3 and T1: {}\".format(cosine_similarity(tfidf[2], tfidf[0])))\n"
   ]
  },
  {
   "cell_type": "markdown",
   "metadata": {},
   "source": [
    "#### With Lemmatization"
   ]
  },
  {
   "cell_type": "code",
   "execution_count": 14,
   "metadata": {},
   "outputs": [
    {
     "name": "stderr",
     "output_type": "stream",
     "text": [
      "C:\\Users\\Shivesh Kaundinya\\AppData\\Local\\Programs\\Python\\Python39\\lib\\site-packages\\sklearn\\utils\\deprecation.py:87: FutureWarning: Function get_feature_names is deprecated; get_feature_names is deprecated in 1.0 and will be removed in 1.2. Please use get_feature_names_out instead.\n",
      "  warnings.warn(msg, category=FutureWarning)\n"
     ]
    },
    {
     "data": {
      "text/html": [
       "<div>\n",
       "<style scoped>\n",
       "    .dataframe tbody tr th:only-of-type {\n",
       "        vertical-align: middle;\n",
       "    }\n",
       "\n",
       "    .dataframe tbody tr th {\n",
       "        vertical-align: top;\n",
       "    }\n",
       "\n",
       "    .dataframe thead th {\n",
       "        text-align: right;\n",
       "    }\n",
       "</style>\n",
       "<table border=\"1\" class=\"dataframe\">\n",
       "  <thead>\n",
       "    <tr style=\"text-align: right;\">\n",
       "      <th></th>\n",
       "      <th>00</th>\n",
       "      <th>12</th>\n",
       "      <th>123</th>\n",
       "      <th>13</th>\n",
       "      <th>131</th>\n",
       "      <th>13th</th>\n",
       "      <th>144</th>\n",
       "      <th>14th</th>\n",
       "      <th>15</th>\n",
       "      <th>16</th>\n",
       "      <th>...</th>\n",
       "      <th>youth</th>\n",
       "      <th>youthful</th>\n",
       "      <th>yoxley</th>\n",
       "      <th>ysaye</th>\n",
       "      <th>ze</th>\n",
       "      <th>zealous</th>\n",
       "      <th>zenith</th>\n",
       "      <th>zephyr</th>\n",
       "      <th>zest</th>\n",
       "      <th>zoo</th>\n",
       "    </tr>\n",
       "  </thead>\n",
       "  <tbody>\n",
       "    <tr>\n",
       "      <th>B1</th>\n",
       "      <td>0.000000</td>\n",
       "      <td>0.000000</td>\n",
       "      <td>0.000000</td>\n",
       "      <td>0.000000</td>\n",
       "      <td>0.000000</td>\n",
       "      <td>0.000000</td>\n",
       "      <td>0.000000</td>\n",
       "      <td>0.000000</td>\n",
       "      <td>0.000000</td>\n",
       "      <td>0.000000</td>\n",
       "      <td>...</td>\n",
       "      <td>0.005472</td>\n",
       "      <td>0.000000</td>\n",
       "      <td>0.000000</td>\n",
       "      <td>0.000000</td>\n",
       "      <td>0.000926</td>\n",
       "      <td>0.000000</td>\n",
       "      <td>0.000000</td>\n",
       "      <td>0.000000</td>\n",
       "      <td>0.000000</td>\n",
       "      <td>0.000000</td>\n",
       "    </tr>\n",
       "    <tr>\n",
       "      <th>B2</th>\n",
       "      <td>0.000000</td>\n",
       "      <td>0.000733</td>\n",
       "      <td>0.000000</td>\n",
       "      <td>0.000733</td>\n",
       "      <td>0.001466</td>\n",
       "      <td>0.000733</td>\n",
       "      <td>0.000000</td>\n",
       "      <td>0.000733</td>\n",
       "      <td>0.000733</td>\n",
       "      <td>0.001466</td>\n",
       "      <td>...</td>\n",
       "      <td>0.002165</td>\n",
       "      <td>0.000558</td>\n",
       "      <td>0.005132</td>\n",
       "      <td>0.000000</td>\n",
       "      <td>0.000000</td>\n",
       "      <td>0.000733</td>\n",
       "      <td>0.000733</td>\n",
       "      <td>0.000000</td>\n",
       "      <td>0.000733</td>\n",
       "      <td>0.000733</td>\n",
       "    </tr>\n",
       "    <tr>\n",
       "      <th>B3</th>\n",
       "      <td>0.000681</td>\n",
       "      <td>0.000000</td>\n",
       "      <td>0.000681</td>\n",
       "      <td>0.000000</td>\n",
       "      <td>0.000000</td>\n",
       "      <td>0.000000</td>\n",
       "      <td>0.000681</td>\n",
       "      <td>0.000000</td>\n",
       "      <td>0.000000</td>\n",
       "      <td>0.000000</td>\n",
       "      <td>...</td>\n",
       "      <td>0.002011</td>\n",
       "      <td>0.001036</td>\n",
       "      <td>0.000000</td>\n",
       "      <td>0.001362</td>\n",
       "      <td>0.000000</td>\n",
       "      <td>0.000000</td>\n",
       "      <td>0.000000</td>\n",
       "      <td>0.000681</td>\n",
       "      <td>0.000000</td>\n",
       "      <td>0.000000</td>\n",
       "    </tr>\n",
       "  </tbody>\n",
       "</table>\n",
       "<p>3 rows × 11327 columns</p>\n",
       "</div>"
      ],
      "text/plain": [
       "          00        12       123        13       131      13th       144  \\\n",
       "B1  0.000000  0.000000  0.000000  0.000000  0.000000  0.000000  0.000000   \n",
       "B2  0.000000  0.000733  0.000000  0.000733  0.001466  0.000733  0.000000   \n",
       "B3  0.000681  0.000000  0.000681  0.000000  0.000000  0.000000  0.000681   \n",
       "\n",
       "        14th        15        16  ...     youth  youthful    yoxley     ysaye  \\\n",
       "B1  0.000000  0.000000  0.000000  ...  0.005472  0.000000  0.000000  0.000000   \n",
       "B2  0.000733  0.000733  0.001466  ...  0.002165  0.000558  0.005132  0.000000   \n",
       "B3  0.000000  0.000000  0.000000  ...  0.002011  0.001036  0.000000  0.001362   \n",
       "\n",
       "          ze   zealous    zenith    zephyr      zest       zoo  \n",
       "B1  0.000926  0.000000  0.000000  0.000000  0.000000  0.000000  \n",
       "B2  0.000000  0.000733  0.000733  0.000000  0.000733  0.000733  \n",
       "B3  0.000000  0.000000  0.000000  0.000681  0.000000  0.000000  \n",
       "\n",
       "[3 rows x 11327 columns]"
      ]
     },
     "execution_count": 14,
     "metadata": {},
     "output_type": "execute_result"
    }
   ],
   "source": [
    "\n",
    "corpus2 = [lemmatize(tokens) for tokens in tokenized_texts]\n",
    "\n",
    "tfidf = vectorizer.fit_transform(corpus2)\n",
    "pd.DataFrame(tfidf.toarray(), \n",
    "                columns=vectorizer.get_feature_names(), \n",
    "                index=['B1', 'B2', 'B3'])\n"
   ]
  },
  {
   "cell_type": "code",
   "execution_count": 15,
   "metadata": {},
   "outputs": [
    {
     "name": "stdout",
     "output_type": "stream",
     "text": [
      "Cosine Similarity after Lemmatization\n",
      "T1 and T2: [[0.45475273]]\n",
      "T2 and T3: [[0.26692572]]\n",
      "T3 and T1: [[0.27430117]]\n"
     ]
    }
   ],
   "source": [
    "print(\"Cosine Similarity after Lemmatization\")\n",
    "print(\"T1 and T2: {}\".format(cosine_similarity(tfidf[0], tfidf[1])))\n",
    "print(\"T2 and T3: {}\".format(cosine_similarity(tfidf[1], tfidf[2])))\n",
    "print(\"T3 and T1: {}\".format(cosine_similarity(tfidf[2], tfidf[0])))\n"
   ]
  }
 ],
 "metadata": {
  "interpreter": {
   "hash": "ed3e2ff046ac52617a1704c0e2b654c30871d2bd634d62eb90e0c3e386c4cfdc"
  },
  "kernelspec": {
   "display_name": "Python 3.8.5 64-bit ('base': conda)",
   "language": "python",
   "name": "python3"
  },
  "language_info": {
   "codemirror_mode": {
    "name": "ipython",
    "version": 3
   },
   "file_extension": ".py",
   "mimetype": "text/x-python",
   "name": "python",
   "nbconvert_exporter": "python",
   "pygments_lexer": "ipython3",
   "version": "3.9.1"
  },
  "orig_nbformat": 4
 },
 "nbformat": 4,
 "nbformat_minor": 2
}
