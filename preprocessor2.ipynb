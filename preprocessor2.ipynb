{
 "cells": [
  {
   "cell_type": "markdown",
   "metadata": {},
   "source": [
    "# Preprocessor for Text 2\n",
    "Preprocessing includes removing special characters, lowercasing all the letters and reducing the text to the main content."
   ]
  },
  {
   "cell_type": "markdown",
   "metadata": {},
   "source": [
    "### Setting Up"
   ]
  },
  {
   "cell_type": "code",
   "execution_count": 1,
   "metadata": {},
   "outputs": [],
   "source": [
    "import regex as re                  # Used for matching words in the text\n",
    "import unidecode                    # To remove Greek accents"
   ]
  },
  {
   "cell_type": "markdown",
   "metadata": {},
   "source": [
    "### Reading the Book"
   ]
  },
  {
   "cell_type": "code",
   "execution_count": 2,
   "metadata": {},
   "outputs": [
    {
     "name": "stdout",
     "output_type": "stream",
     "text": [
      "['\\ufeff\\n', \"Project Gutenberg's The Return of Sherlock Holmes, by Arthur Conan Doyle\\n\", '\\n', 'This eBook is for the use of anyone anywhere at no cost and with\\n', 'almost no restrictions whatsoever.  You may copy it, give it away or\\n', 're-use it under the terms of the Project Gutenberg License included\\n', 'with this eBook or online at www.gutenberg.org\\n', '\\n', 'Title: The Return of Sherlock Holmes\\n', '\\n']\n"
     ]
    }
   ],
   "source": [
    "book_name = \"The Return of Sherlock Holmes, by Sir Arthur Conan Doyle.txt\"\n",
    "with open(book_name, encoding=\"utf-8\") as book:\n",
    "    lines = book.readlines()\n",
    "\n",
    "print(lines[:10])"
   ]
  },
  {
   "cell_type": "markdown",
   "metadata": {},
   "source": [
    "### Preprocessing"
   ]
  },
  {
   "cell_type": "code",
   "execution_count": 3,
   "metadata": {},
   "outputs": [
    {
     "name": "stdout",
     "output_type": "stream",
     "text": [
      "The main content is from line numbers 55 to 13427\n"
     ]
    }
   ],
   "source": [
    "# Extracting the main content from the text\n",
    "\n",
    "begin_index = lines.index(\"THE ADVENTURE OF THE EMPTY HOUSE\\n\")\n",
    "end_index = len(lines) - 1 - lines[::-1].index(\"      THE END\\n\")\n",
    "print(\"The main content is from line numbers {} to {}\".format(begin_index, end_index))\n",
    "\n",
    "lines = lines[begin_index:end_index]        # Reducing lines to main content"
   ]
  },
  {
   "cell_type": "code",
   "execution_count": 4,
   "metadata": {},
   "outputs": [
    {
     "name": "stdout",
     "output_type": "stream",
     "text": [
      "['      It was in the spring of the year 1894 that all London was\\n', '      interested, and the fashionable world dismayed, by the murder of\\n', '      the Honourable Ronald Adair under most unusual and inexplicable\\n', '      circumstances. The public has already learned those particulars\\n', '      of the crime which came out in the police investigation, but a\\n', '      good deal was suppressed upon that occasion, since the case for\\n', '      the prosecution was so overwhelmingly strong that it was not\\n', '      necessary to bring forward all the facts. Only now, at the end of\\n', '      nearly ten years, am I allowed to supply those missing links\\n', '      which make up the whole of that remarkable chain. The crime was\\n']\n"
     ]
    }
   ],
   "source": [
    "# Removing chapter headings, part headings and empty lines\n",
    "\n",
    "chapter_pattern = r\"THE ADVENTURE OF [A-Z]+\"\n",
    "\n",
    "temp = []\n",
    "for line in lines:\n",
    "    is_valid = ((line == '\\n') or re.match(chapter_pattern, line))\n",
    "    if(not is_valid):               # If the line is neither a chapter name nor an empty line\n",
    "        temp.append(line)           # include it in the final list\n",
    "\n",
    "lines = temp\n",
    "print(lines[:10])\n"
   ]
  },
  {
   "cell_type": "code",
   "execution_count": 5,
   "metadata": {},
   "outputs": [
    {
     "name": "stdout",
     "output_type": "stream",
     "text": [
      "it was in the spring of the year 1894 that all london was interested and the fashionable world dismayed by the murder of the honourable ronald adair under most unusual and inexplicable circumstances the public has already learned those particulars of the crime which came out in the police investigation but a good deal was suppressed upon that occasion since the case for the prosecution was so overwhelmingly strong that it was not necessary to bring forward all the facts only now at the end of nearly ten years am i allowed to supply those missing links which make up the whole of that remarkable chain the crime was of interest in itself but that interest was as nothing to me compared to the inconceivable sequel which afforded me the greatest shock and surprise of any event in my adventurous life even now after this long interval i find myself thrilling as i think of it and feeling once more that sudden flood of joy amazement and incredulity which utterly submerged my mind let me say to t\n"
     ]
    }
   ],
   "source": [
    "# Combining all the lines into one string\n",
    "\n",
    "joined_book = ''.join(lines)                            # Combining all the lines to a single string\n",
    "joined_book = unidecode.unidecode(joined_book)          # Removing Greek accents\n",
    "joined_book = joined_book.lower()                       # Turing all the characters to lower case\n",
    "joined_book = re.sub('_', '', joined_book)              # Removing all the '_'\n",
    "joined_book = re.sub('[\\s]+', '_', joined_book)         # Replacing spaces with '_'\n",
    "joined_book = re.sub(r'\\W+', '_', joined_book)           # Removing non-alphanumeric characters\n",
    "joined_book = re.sub('[_]+', ' ', joined_book)             # Replacing '_' back to ' '\n",
    "joined_book = joined_book.strip()\n",
    "\n",
    "print(joined_book[:1000])\n",
    "\n",
    "with open(\"T2.txt\", \"w\") as T2:\n",
    "    T2.write(joined_book)\n"
   ]
  }
 ],
 "metadata": {
  "interpreter": {
   "hash": "a81e59b1662bfed04c5cc75b4aa04279397bd644e2acb4a3b9dacc0a413908c4"
  },
  "kernelspec": {
   "display_name": "Python 3.9.1 64-bit",
   "language": "python",
   "name": "python3"
  },
  "language_info": {
   "codemirror_mode": {
    "name": "ipython",
    "version": 3
   },
   "file_extension": ".py",
   "mimetype": "text/x-python",
   "name": "python",
   "nbconvert_exporter": "python",
   "pygments_lexer": "ipython3",
   "version": "3.9.1"
  },
  "orig_nbformat": 4
 },
 "nbformat": 4,
 "nbformat_minor": 2
}
